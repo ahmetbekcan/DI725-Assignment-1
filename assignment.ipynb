{
 "cells": [
  {
   "cell_type": "code",
   "execution_count": 2,
   "metadata": {},
   "outputs": [],
   "source": [
    "#!python data/don_char/prepare.py"
   ]
  },
  {
   "cell_type": "markdown",
   "metadata": {},
   "source": []
  },
  {
   "cell_type": "code",
   "execution_count": 3,
   "metadata": {},
   "outputs": [],
   "source": [
    "#%pip install -r \"requirements.txt\""
   ]
  },
  {
   "cell_type": "code",
   "execution_count": 26,
   "metadata": {},
   "outputs": [],
   "source": [
    "import pandas as pd\n",
    "import matplotlib.pyplot as plt\n",
    "import seaborn as sns\n",
    "import numpy as np"
   ]
  },
  {
   "cell_type": "code",
   "execution_count": 5,
   "metadata": {},
   "outputs": [],
   "source": [
    "df = pd.read_csv(\"data/customer_service/train.csv\")"
   ]
  },
  {
   "cell_type": "markdown",
   "metadata": {},
   "source": [
    "# Data Exploration \n",
    "Checked the overall information about the dataset"
   ]
  },
  {
   "cell_type": "code",
   "execution_count": 48,
   "metadata": {},
   "outputs": [
    {
     "name": "stdout",
     "output_type": "stream",
     "text": [
      "<class 'pandas.core.frame.DataFrame'>\n",
      "RangeIndex: 970 entries, 0 to 969\n",
      "Data columns (total 12 columns):\n",
      " #   Column                       Non-Null Count  Dtype \n",
      "---  ------                       --------------  ----- \n",
      " 0   issue_area                   970 non-null    object\n",
      " 1   issue_category               970 non-null    object\n",
      " 2   issue_sub_category           970 non-null    object\n",
      " 3   issue_category_sub_category  970 non-null    object\n",
      " 4   customer_sentiment           970 non-null    object\n",
      " 5   product_category             970 non-null    object\n",
      " 6   product_sub_category         970 non-null    object\n",
      " 7   issue_complexity             970 non-null    object\n",
      " 8   agent_experience_level       970 non-null    object\n",
      " 9   agent_experience_level_desc  970 non-null    object\n",
      " 10  conversation                 970 non-null    object\n",
      " 11  conversation_length          970 non-null    int64 \n",
      "dtypes: int64(1), object(11)\n",
      "memory usage: 91.1+ KB\n"
     ]
    },
    {
     "data": {
      "text/html": [
       "<div>\n",
       "<style scoped>\n",
       "    .dataframe tbody tr th:only-of-type {\n",
       "        vertical-align: middle;\n",
       "    }\n",
       "\n",
       "    .dataframe tbody tr th {\n",
       "        vertical-align: top;\n",
       "    }\n",
       "\n",
       "    .dataframe thead th {\n",
       "        text-align: right;\n",
       "    }\n",
       "</style>\n",
       "<table border=\"1\" class=\"dataframe\">\n",
       "  <thead>\n",
       "    <tr style=\"text-align: right;\">\n",
       "      <th></th>\n",
       "      <th>issue_area</th>\n",
       "      <th>issue_category</th>\n",
       "      <th>issue_sub_category</th>\n",
       "      <th>issue_category_sub_category</th>\n",
       "      <th>customer_sentiment</th>\n",
       "      <th>product_category</th>\n",
       "      <th>product_sub_category</th>\n",
       "      <th>issue_complexity</th>\n",
       "      <th>agent_experience_level</th>\n",
       "      <th>agent_experience_level_desc</th>\n",
       "      <th>conversation</th>\n",
       "      <th>conversation_length</th>\n",
       "    </tr>\n",
       "  </thead>\n",
       "  <tbody>\n",
       "    <tr>\n",
       "      <th>count</th>\n",
       "      <td>970</td>\n",
       "      <td>970</td>\n",
       "      <td>970</td>\n",
       "      <td>970</td>\n",
       "      <td>970</td>\n",
       "      <td>970</td>\n",
       "      <td>970</td>\n",
       "      <td>970</td>\n",
       "      <td>970</td>\n",
       "      <td>970</td>\n",
       "      <td>970</td>\n",
       "      <td>970.000000</td>\n",
       "    </tr>\n",
       "    <tr>\n",
       "      <th>unique</th>\n",
       "      <td>6</td>\n",
       "      <td>40</td>\n",
       "      <td>109</td>\n",
       "      <td>109</td>\n",
       "      <td>3</td>\n",
       "      <td>3</td>\n",
       "      <td>50</td>\n",
       "      <td>3</td>\n",
       "      <td>3</td>\n",
       "      <td>3</td>\n",
       "      <td>968</td>\n",
       "      <td>NaN</td>\n",
       "    </tr>\n",
       "    <tr>\n",
       "      <th>top</th>\n",
       "      <td>Cancellations and returns</td>\n",
       "      <td>Return and Exchange</td>\n",
       "      <td>Verification requirement for mobile number or ...</td>\n",
       "      <td>Mobile Number and Email Verification -&gt; Verifi...</td>\n",
       "      <td>neutral</td>\n",
       "      <td>Appliances</td>\n",
       "      <td>Bp Monitor</td>\n",
       "      <td>less</td>\n",
       "      <td>junior</td>\n",
       "      <td>handles customer inquiries independently, poss...</td>\n",
       "      <td>Agent: You're welcome, Jane. Have a great day!</td>\n",
       "      <td>NaN</td>\n",
       "    </tr>\n",
       "    <tr>\n",
       "      <th>freq</th>\n",
       "      <td>277</td>\n",
       "      <td>92</td>\n",
       "      <td>17</td>\n",
       "      <td>17</td>\n",
       "      <td>542</td>\n",
       "      <td>454</td>\n",
       "      <td>26</td>\n",
       "      <td>472</td>\n",
       "      <td>490</td>\n",
       "      <td>490</td>\n",
       "      <td>3</td>\n",
       "      <td>NaN</td>\n",
       "    </tr>\n",
       "    <tr>\n",
       "      <th>mean</th>\n",
       "      <td>NaN</td>\n",
       "      <td>NaN</td>\n",
       "      <td>NaN</td>\n",
       "      <td>NaN</td>\n",
       "      <td>NaN</td>\n",
       "      <td>NaN</td>\n",
       "      <td>NaN</td>\n",
       "      <td>NaN</td>\n",
       "      <td>NaN</td>\n",
       "      <td>NaN</td>\n",
       "      <td>NaN</td>\n",
       "      <td>2164.289691</td>\n",
       "    </tr>\n",
       "    <tr>\n",
       "      <th>std</th>\n",
       "      <td>NaN</td>\n",
       "      <td>NaN</td>\n",
       "      <td>NaN</td>\n",
       "      <td>NaN</td>\n",
       "      <td>NaN</td>\n",
       "      <td>NaN</td>\n",
       "      <td>NaN</td>\n",
       "      <td>NaN</td>\n",
       "      <td>NaN</td>\n",
       "      <td>NaN</td>\n",
       "      <td>NaN</td>\n",
       "      <td>572.653613</td>\n",
       "    </tr>\n",
       "    <tr>\n",
       "      <th>min</th>\n",
       "      <td>NaN</td>\n",
       "      <td>NaN</td>\n",
       "      <td>NaN</td>\n",
       "      <td>NaN</td>\n",
       "      <td>NaN</td>\n",
       "      <td>NaN</td>\n",
       "      <td>NaN</td>\n",
       "      <td>NaN</td>\n",
       "      <td>NaN</td>\n",
       "      <td>NaN</td>\n",
       "      <td>NaN</td>\n",
       "      <td>46.000000</td>\n",
       "    </tr>\n",
       "    <tr>\n",
       "      <th>25%</th>\n",
       "      <td>NaN</td>\n",
       "      <td>NaN</td>\n",
       "      <td>NaN</td>\n",
       "      <td>NaN</td>\n",
       "      <td>NaN</td>\n",
       "      <td>NaN</td>\n",
       "      <td>NaN</td>\n",
       "      <td>NaN</td>\n",
       "      <td>NaN</td>\n",
       "      <td>NaN</td>\n",
       "      <td>NaN</td>\n",
       "      <td>1791.250000</td>\n",
       "    </tr>\n",
       "    <tr>\n",
       "      <th>50%</th>\n",
       "      <td>NaN</td>\n",
       "      <td>NaN</td>\n",
       "      <td>NaN</td>\n",
       "      <td>NaN</td>\n",
       "      <td>NaN</td>\n",
       "      <td>NaN</td>\n",
       "      <td>NaN</td>\n",
       "      <td>NaN</td>\n",
       "      <td>NaN</td>\n",
       "      <td>NaN</td>\n",
       "      <td>NaN</td>\n",
       "      <td>2091.000000</td>\n",
       "    </tr>\n",
       "    <tr>\n",
       "      <th>75%</th>\n",
       "      <td>NaN</td>\n",
       "      <td>NaN</td>\n",
       "      <td>NaN</td>\n",
       "      <td>NaN</td>\n",
       "      <td>NaN</td>\n",
       "      <td>NaN</td>\n",
       "      <td>NaN</td>\n",
       "      <td>NaN</td>\n",
       "      <td>NaN</td>\n",
       "      <td>NaN</td>\n",
       "      <td>NaN</td>\n",
       "      <td>2471.750000</td>\n",
       "    </tr>\n",
       "    <tr>\n",
       "      <th>max</th>\n",
       "      <td>NaN</td>\n",
       "      <td>NaN</td>\n",
       "      <td>NaN</td>\n",
       "      <td>NaN</td>\n",
       "      <td>NaN</td>\n",
       "      <td>NaN</td>\n",
       "      <td>NaN</td>\n",
       "      <td>NaN</td>\n",
       "      <td>NaN</td>\n",
       "      <td>NaN</td>\n",
       "      <td>NaN</td>\n",
       "      <td>5804.000000</td>\n",
       "    </tr>\n",
       "  </tbody>\n",
       "</table>\n",
       "</div>"
      ],
      "text/plain": [
       "                       issue_area       issue_category  \\\n",
       "count                         970                  970   \n",
       "unique                          6                   40   \n",
       "top     Cancellations and returns  Return and Exchange   \n",
       "freq                          277                   92   \n",
       "mean                          NaN                  NaN   \n",
       "std                           NaN                  NaN   \n",
       "min                           NaN                  NaN   \n",
       "25%                           NaN                  NaN   \n",
       "50%                           NaN                  NaN   \n",
       "75%                           NaN                  NaN   \n",
       "max                           NaN                  NaN   \n",
       "\n",
       "                                       issue_sub_category  \\\n",
       "count                                                 970   \n",
       "unique                                                109   \n",
       "top     Verification requirement for mobile number or ...   \n",
       "freq                                                   17   \n",
       "mean                                                  NaN   \n",
       "std                                                   NaN   \n",
       "min                                                   NaN   \n",
       "25%                                                   NaN   \n",
       "50%                                                   NaN   \n",
       "75%                                                   NaN   \n",
       "max                                                   NaN   \n",
       "\n",
       "                              issue_category_sub_category customer_sentiment  \\\n",
       "count                                                 970                970   \n",
       "unique                                                109                  3   \n",
       "top     Mobile Number and Email Verification -> Verifi...            neutral   \n",
       "freq                                                   17                542   \n",
       "mean                                                  NaN                NaN   \n",
       "std                                                   NaN                NaN   \n",
       "min                                                   NaN                NaN   \n",
       "25%                                                   NaN                NaN   \n",
       "50%                                                   NaN                NaN   \n",
       "75%                                                   NaN                NaN   \n",
       "max                                                   NaN                NaN   \n",
       "\n",
       "       product_category product_sub_category issue_complexity  \\\n",
       "count               970                  970              970   \n",
       "unique                3                   50                3   \n",
       "top          Appliances           Bp Monitor             less   \n",
       "freq                454                   26              472   \n",
       "mean                NaN                  NaN              NaN   \n",
       "std                 NaN                  NaN              NaN   \n",
       "min                 NaN                  NaN              NaN   \n",
       "25%                 NaN                  NaN              NaN   \n",
       "50%                 NaN                  NaN              NaN   \n",
       "75%                 NaN                  NaN              NaN   \n",
       "max                 NaN                  NaN              NaN   \n",
       "\n",
       "       agent_experience_level  \\\n",
       "count                     970   \n",
       "unique                      3   \n",
       "top                    junior   \n",
       "freq                      490   \n",
       "mean                      NaN   \n",
       "std                       NaN   \n",
       "min                       NaN   \n",
       "25%                       NaN   \n",
       "50%                       NaN   \n",
       "75%                       NaN   \n",
       "max                       NaN   \n",
       "\n",
       "                              agent_experience_level_desc  \\\n",
       "count                                                 970   \n",
       "unique                                                  3   \n",
       "top     handles customer inquiries independently, poss...   \n",
       "freq                                                  490   \n",
       "mean                                                  NaN   \n",
       "std                                                   NaN   \n",
       "min                                                   NaN   \n",
       "25%                                                   NaN   \n",
       "50%                                                   NaN   \n",
       "75%                                                   NaN   \n",
       "max                                                   NaN   \n",
       "\n",
       "                                          conversation  conversation_length  \n",
       "count                                              970           970.000000  \n",
       "unique                                             968                  NaN  \n",
       "top     Agent: You're welcome, Jane. Have a great day!                  NaN  \n",
       "freq                                                 3                  NaN  \n",
       "mean                                               NaN          2164.289691  \n",
       "std                                                NaN           572.653613  \n",
       "min                                                NaN            46.000000  \n",
       "25%                                                NaN          1791.250000  \n",
       "50%                                                NaN          2091.000000  \n",
       "75%                                                NaN          2471.750000  \n",
       "max                                                NaN          5804.000000  "
      ]
     },
     "execution_count": 48,
     "metadata": {},
     "output_type": "execute_result"
    }
   ],
   "source": [
    "df.info()\n",
    "df.describe(include=\"all\")"
   ]
  },
  {
   "cell_type": "markdown",
   "metadata": {},
   "source": [
    "Checked the percantages of the different sentiments. It is observed that positive sentiments are very rare."
   ]
  },
  {
   "cell_type": "code",
   "execution_count": 49,
   "metadata": {},
   "outputs": [
    {
     "data": {
      "text/plain": [
       "customer_sentiment\n",
       "neutral     55.876289\n",
       "negative    42.371134\n",
       "positive     1.752577\n",
       "Name: proportion, dtype: float64"
      ]
     },
     "execution_count": 49,
     "metadata": {},
     "output_type": "execute_result"
    }
   ],
   "source": [
    "df[\"customer_sentiment\"].value_counts(normalize=True) * 100"
   ]
  },
  {
   "cell_type": "markdown",
   "metadata": {},
   "source": [
    "Checked the issue complexity vs customer sentiment. It was seen that negative sentiment increases as the issue complexity increases."
   ]
  },
  {
   "cell_type": "code",
   "execution_count": 50,
   "metadata": {},
   "outputs": [
    {
     "data": {
      "text/html": [
       "<div>\n",
       "<style scoped>\n",
       "    .dataframe tbody tr th:only-of-type {\n",
       "        vertical-align: middle;\n",
       "    }\n",
       "\n",
       "    .dataframe tbody tr th {\n",
       "        vertical-align: top;\n",
       "    }\n",
       "\n",
       "    .dataframe thead th {\n",
       "        text-align: right;\n",
       "    }\n",
       "</style>\n",
       "<table border=\"1\" class=\"dataframe\">\n",
       "  <thead>\n",
       "    <tr style=\"text-align: right;\">\n",
       "      <th>customer_sentiment</th>\n",
       "      <th>negative</th>\n",
       "      <th>neutral</th>\n",
       "      <th>positive</th>\n",
       "    </tr>\n",
       "    <tr>\n",
       "      <th>issue_complexity</th>\n",
       "      <th></th>\n",
       "      <th></th>\n",
       "      <th></th>\n",
       "    </tr>\n",
       "  </thead>\n",
       "  <tbody>\n",
       "    <tr>\n",
       "      <th>high</th>\n",
       "      <td>39</td>\n",
       "      <td>40</td>\n",
       "      <td>3</td>\n",
       "    </tr>\n",
       "    <tr>\n",
       "      <th>less</th>\n",
       "      <td>197</td>\n",
       "      <td>268</td>\n",
       "      <td>7</td>\n",
       "    </tr>\n",
       "    <tr>\n",
       "      <th>medium</th>\n",
       "      <td>175</td>\n",
       "      <td>234</td>\n",
       "      <td>7</td>\n",
       "    </tr>\n",
       "  </tbody>\n",
       "</table>\n",
       "</div>"
      ],
      "text/plain": [
       "customer_sentiment  negative  neutral  positive\n",
       "issue_complexity                               \n",
       "high                      39       40         3\n",
       "less                     197      268         7\n",
       "medium                   175      234         7"
      ]
     },
     "execution_count": 50,
     "metadata": {},
     "output_type": "execute_result"
    }
   ],
   "source": [
    "pd.crosstab(df[\"issue_complexity\"], df[\"customer_sentiment\"])"
   ]
  },
  {
   "cell_type": "markdown",
   "metadata": {},
   "source": [
    "Similarly, agent experience level vs customer sentiment is examined. Suprisingly, the experience level doesn't have a big affect on the customer sentiment."
   ]
  },
  {
   "cell_type": "code",
   "execution_count": 51,
   "metadata": {},
   "outputs": [
    {
     "data": {
      "text/html": [
       "<div>\n",
       "<style scoped>\n",
       "    .dataframe tbody tr th:only-of-type {\n",
       "        vertical-align: middle;\n",
       "    }\n",
       "\n",
       "    .dataframe tbody tr th {\n",
       "        vertical-align: top;\n",
       "    }\n",
       "\n",
       "    .dataframe thead th {\n",
       "        text-align: right;\n",
       "    }\n",
       "</style>\n",
       "<table border=\"1\" class=\"dataframe\">\n",
       "  <thead>\n",
       "    <tr style=\"text-align: right;\">\n",
       "      <th>customer_sentiment</th>\n",
       "      <th>negative</th>\n",
       "      <th>neutral</th>\n",
       "      <th>positive</th>\n",
       "    </tr>\n",
       "    <tr>\n",
       "      <th>agent_experience_level</th>\n",
       "      <th></th>\n",
       "      <th></th>\n",
       "      <th></th>\n",
       "    </tr>\n",
       "  </thead>\n",
       "  <tbody>\n",
       "    <tr>\n",
       "      <th>experienced</th>\n",
       "      <td>147</td>\n",
       "      <td>188</td>\n",
       "      <td>4</td>\n",
       "    </tr>\n",
       "    <tr>\n",
       "      <th>inexperienced</th>\n",
       "      <td>47</td>\n",
       "      <td>93</td>\n",
       "      <td>1</td>\n",
       "    </tr>\n",
       "    <tr>\n",
       "      <th>junior</th>\n",
       "      <td>217</td>\n",
       "      <td>261</td>\n",
       "      <td>12</td>\n",
       "    </tr>\n",
       "  </tbody>\n",
       "</table>\n",
       "</div>"
      ],
      "text/plain": [
       "customer_sentiment      negative  neutral  positive\n",
       "agent_experience_level                             \n",
       "experienced                  147      188         4\n",
       "inexperienced                 47       93         1\n",
       "junior                       217      261        12"
      ]
     },
     "execution_count": 51,
     "metadata": {},
     "output_type": "execute_result"
    }
   ],
   "source": [
    "pd.crosstab(df[\"agent_experience_level\"], df[\"customer_sentiment\"])"
   ]
  },
  {
   "cell_type": "code",
   "execution_count": 52,
   "metadata": {},
   "outputs": [
    {
     "name": "stdout",
     "output_type": "stream",
     "text": [
      "customer_sentiment   negative    neutral  positive\n",
      "issue_complexity                                  \n",
      "high                47.560976  48.780488  3.658537\n",
      "less                41.737288  56.779661  1.483051\n",
      "medium              42.067308  56.250000  1.682692\n",
      "\n",
      "\n",
      "customer_sentiment       negative    neutral  positive\n",
      "agent_experience_level                                \n",
      "experienced             43.362832  55.457227  1.179941\n",
      "inexperienced           33.333333  65.957447  0.709220\n",
      "junior                  44.285714  53.265306  2.448980\n"
     ]
    }
   ],
   "source": [
    "complexity_sentiment = df.groupby(\"issue_complexity\")[\"customer_sentiment\"].value_counts(normalize=True).unstack() * 100\n",
    "print(complexity_sentiment)\n",
    "print(\"\\n\")\n",
    "experience_sentiment = df.groupby(\"agent_experience_level\")[\"customer_sentiment\"].value_counts(normalize=True).unstack() * 100\n",
    "print(experience_sentiment)"
   ]
  },
  {
   "cell_type": "markdown",
   "metadata": {},
   "source": [
    "The lengths of the conversations are inspected. It was seen that the conversations are longer when the customer sentiment is negative."
   ]
  },
  {
   "cell_type": "code",
   "execution_count": 53,
   "metadata": {},
   "outputs": [
    {
     "data": {
      "text/plain": [
       "customer_sentiment\n",
       "negative    2433.912409\n",
       "neutral     1973.374539\n",
       "positive    1732.588235\n",
       "Name: conversation_length, dtype: float64"
      ]
     },
     "execution_count": 53,
     "metadata": {},
     "output_type": "execute_result"
    }
   ],
   "source": [
    "df[\"conversation_length\"] = df[\"conversation\"].apply(len)\n",
    "df.groupby(\"customer_sentiment\")[\"conversation_length\"].mean()"
   ]
  },
  {
   "cell_type": "markdown",
   "metadata": {},
   "source": [
    "# Data preparation \n",
    "Customer service data is preprocessed and saved as .npy files. Here, only the replies given by the users excluding the last 2 replies are taken and saved as X_train and X_val. Also, their corresponding labels (sentiments) are encoded into integer and they are saved as y_train and y_val."
   ]
  },
  {
   "cell_type": "code",
   "execution_count": 55,
   "metadata": {},
   "outputs": [],
   "source": [
    "!python data/customer_service/prepare.py"
   ]
  },
  {
   "cell_type": "code",
   "execution_count": null,
   "metadata": {},
   "outputs": [
    {
     "name": "stderr",
     "output_type": "stream",
     "text": [
      "wandb: Using wandb-core as the SDK backend.  Please refer to https://wandb.me/wandb-core for more information.\n",
      "wandb: WARNING If you're specifying your api key in code, ensure this code is not shared publicly.\n",
      "wandb: WARNING Consider setting the WANDB_API_KEY environment variable, or running `wandb login` from the command line.\n",
      "wandb: No netrc file found, creating one.\n",
      "wandb: Appending key for api.wandb.ai to your netrc file: C:\\Users\\user\\_netrc\n",
      "wandb: Currently logged in as: ahmetbekcan to https://api.wandb.ai. Use `wandb login --relogin` to force relogin\n"
     ]
    },
    {
     "data": {
      "text/plain": [
       "True"
      ]
     },
     "execution_count": 57,
     "metadata": {},
     "output_type": "execute_result"
    }
   ],
   "source": []
  },
  {
   "cell_type": "code",
   "execution_count": 60,
   "metadata": {},
   "outputs": [
    {
     "name": "stderr",
     "output_type": "stream",
     "text": [
      "c:\\Users\\user\\Desktop\\DI725-Assignment-1\\train.py:215: FutureWarning: `torch.cuda.amp.GradScaler(args...)` is deprecated. Please use `torch.amp.GradScaler('cuda', args...)` instead."
     ]
    },
    {
     "name": "stdout",
     "output_type": "stream",
     "text": [
      "Overriding config with config/train_sentiment_analysis.py:"
     ]
    },
    {
     "name": "stderr",
     "output_type": "stream",
     "text": [
      "\n"
     ]
    },
    {
     "name": "stdout",
     "output_type": "stream",
     "text": [
      "\n"
     ]
    },
    {
     "name": "stderr",
     "output_type": "stream",
     "text": [
      "  scaler = torch.cuda.amp.GradScaler(enabled=(dtype == 'float16'))"
     ]
    },
    {
     "name": "stdout",
     "output_type": "stream",
     "text": [
      "# train a miniature character-level shakespeare model"
     ]
    },
    {
     "name": "stderr",
     "output_type": "stream",
     "text": [
      "\n"
     ]
    },
    {
     "name": "stdout",
     "output_type": "stream",
     "text": [
      "\n"
     ]
    },
    {
     "name": "stderr",
     "output_type": "stream",
     "text": [
      "Traceback (most recent call last):"
     ]
    },
    {
     "name": "stdout",
     "output_type": "stream",
     "text": [
      "# good for debugging and playing on macbooks and such"
     ]
    },
    {
     "name": "stderr",
     "output_type": "stream",
     "text": [
      "\n"
     ]
    },
    {
     "name": "stdout",
     "output_type": "stream",
     "text": [
      "\n"
     ]
    },
    {
     "name": "stderr",
     "output_type": "stream",
     "text": [
      "  File "
     ]
    },
    {
     "name": "stdout",
     "output_type": "stream",
     "text": [
      "\n"
     ]
    },
    {
     "name": "stderr",
     "output_type": "stream",
     "text": [
      "\"c:\\Users\\user\\Desktop\\DI725-Assignment-1\\train.py\""
     ]
    },
    {
     "name": "stdout",
     "output_type": "stream",
     "text": [
      "out_dir = 'out-sentiment-analysis'"
     ]
    },
    {
     "name": "stderr",
     "output_type": "stream",
     "text": [
      ", line "
     ]
    },
    {
     "name": "stdout",
     "output_type": "stream",
     "text": [
      "\n"
     ]
    },
    {
     "name": "stderr",
     "output_type": "stream",
     "text": [
      "283"
     ]
    },
    {
     "name": "stdout",
     "output_type": "stream",
     "text": [
      "eval_interval = 250  # keep frequent because we'll overfit\n"
     ]
    },
    {
     "name": "stderr",
     "output_type": "stream",
     "text": [
      ", in "
     ]
    },
    {
     "name": "stdout",
     "output_type": "stream",
     "text": [
      "eval_iters = 200"
     ]
    },
    {
     "name": "stderr",
     "output_type": "stream",
     "text": [
      "<module>"
     ]
    },
    {
     "name": "stdout",
     "output_type": "stream",
     "text": [
      "\n"
     ]
    },
    {
     "name": "stderr",
     "output_type": "stream",
     "text": [
      "\n"
     ]
    },
    {
     "name": "stdout",
     "output_type": "stream",
     "text": [
      "log_interval = 50  # don't print too often"
     ]
    },
    {
     "name": "stderr",
     "output_type": "stream",
     "text": [
      "    losses = estimate_loss()"
     ]
    },
    {
     "name": "stdout",
     "output_type": "stream",
     "text": [
      "\n"
     ]
    },
    {
     "name": "stderr",
     "output_type": "stream",
     "text": [
      "\n",
      "  File "
     ]
    },
    {
     "name": "stdout",
     "output_type": "stream",
     "text": [
      "\n"
     ]
    },
    {
     "name": "stderr",
     "output_type": "stream",
     "text": [
      "\"C:\\Users\\user\\AppData\\Local\\Packages\\PythonSoftwareFoundation.Python.3.13_qbz5n2kfra8p0\\LocalCache\\local-packages\\Python313\\site-packages\\torch\\utils\\_contextlib.py\""
     ]
    },
    {
     "name": "stdout",
     "output_type": "stream",
     "text": [
      "# we expect to overfit on this small dataset, so only save when val improves\n"
     ]
    },
    {
     "name": "stderr",
     "output_type": "stream",
     "text": [
      ", line "
     ]
    },
    {
     "name": "stdout",
     "output_type": "stream",
     "text": [
      "always_save_checkpoint = False"
     ]
    },
    {
     "name": "stderr",
     "output_type": "stream",
     "text": [
      "116"
     ]
    },
    {
     "name": "stdout",
     "output_type": "stream",
     "text": [
      "\n",
      "\n"
     ]
    },
    {
     "name": "stderr",
     "output_type": "stream",
     "text": [
      ", in "
     ]
    },
    {
     "name": "stdout",
     "output_type": "stream",
     "text": [
      "wandb_log = False  # override via command line if you like"
     ]
    },
    {
     "name": "stderr",
     "output_type": "stream",
     "text": [
      "decorate_context"
     ]
    },
    {
     "name": "stdout",
     "output_type": "stream",
     "text": [
      "\n"
     ]
    },
    {
     "name": "stderr",
     "output_type": "stream",
     "text": [
      "\n"
     ]
    },
    {
     "name": "stdout",
     "output_type": "stream",
     "text": [
      "wandb_project = 'sentiment-analysis'"
     ]
    },
    {
     "name": "stderr",
     "output_type": "stream",
     "text": [
      "    return func(*args, **kwargs)\n"
     ]
    },
    {
     "name": "stdout",
     "output_type": "stream",
     "text": [
      "\n"
     ]
    },
    {
     "name": "stderr",
     "output_type": "stream",
     "text": [
      "  File "
     ]
    },
    {
     "name": "stdout",
     "output_type": "stream",
     "text": [
      "wandb_run_name = 'mini-gpt'\n"
     ]
    },
    {
     "name": "stderr",
     "output_type": "stream",
     "text": [
      "\"c:\\Users\\user\\Desktop\\DI725-Assignment-1\\train.py\", line "
     ]
    },
    {
     "name": "stdout",
     "output_type": "stream",
     "text": [
      "\n"
     ]
    },
    {
     "name": "stderr",
     "output_type": "stream",
     "text": [
      "243"
     ]
    },
    {
     "name": "stdout",
     "output_type": "stream",
     "text": [
      "dataset = 'customer_service'"
     ]
    },
    {
     "name": "stderr",
     "output_type": "stream",
     "text": [
      ", in "
     ]
    },
    {
     "name": "stdout",
     "output_type": "stream",
     "text": [
      "\n"
     ]
    },
    {
     "name": "stderr",
     "output_type": "stream",
     "text": [
      "estimate_loss"
     ]
    },
    {
     "name": "stdout",
     "output_type": "stream",
     "text": [
      "gradient_accumulation_steps = 1"
     ]
    },
    {
     "name": "stderr",
     "output_type": "stream",
     "text": [
      "\n"
     ]
    },
    {
     "name": "stdout",
     "output_type": "stream",
     "text": [
      "\n"
     ]
    },
    {
     "name": "stderr",
     "output_type": "stream",
     "text": [
      "    logits, loss = "
     ]
    },
    {
     "name": "stdout",
     "output_type": "stream",
     "text": [
      "batch_size = 64\n"
     ]
    },
    {
     "name": "stderr",
     "output_type": "stream",
     "text": [
      "model(X, Y)"
     ]
    },
    {
     "name": "stdout",
     "output_type": "stream",
     "text": [
      "block_size = 256  # context of up to 256 previous characters"
     ]
    },
    {
     "name": "stderr",
     "output_type": "stream",
     "text": [
      "\n"
     ]
    },
    {
     "name": "stdout",
     "output_type": "stream",
     "text": [
      "\n"
     ]
    },
    {
     "name": "stderr",
     "output_type": "stream",
     "text": [
      "                   "
     ]
    },
    {
     "name": "stdout",
     "output_type": "stream",
     "text": [
      "#variables related to classifying task"
     ]
    },
    {
     "name": "stderr",
     "output_type": "stream",
     "text": [
      "~~~~~"
     ]
    },
    {
     "name": "stdout",
     "output_type": "stream",
     "text": [
      "\n"
     ]
    },
    {
     "name": "stderr",
     "output_type": "stream",
     "text": [
      "^^^^^^"
     ]
    },
    {
     "name": "stdout",
     "output_type": "stream",
     "text": [
      "sentiment_classifier = True"
     ]
    },
    {
     "name": "stderr",
     "output_type": "stream",
     "text": [
      "\n"
     ]
    },
    {
     "name": "stdout",
     "output_type": "stream",
     "text": [
      "\n"
     ]
    },
    {
     "name": "stderr",
     "output_type": "stream",
     "text": [
      "  File "
     ]
    },
    {
     "name": "stdout",
     "output_type": "stream",
     "text": [
      "\n",
      "# baby GPT model :)"
     ]
    },
    {
     "name": "stderr",
     "output_type": "stream",
     "text": [
      "\"C:\\Users\\user\\AppData\\Local\\Packages\\PythonSoftwareFoundation.Python.3.13_qbz5n2kfra8p0\\LocalCache\\local-packages\\Python313\\site-packages\\torch\\nn\\modules\\module.py\", line "
     ]
    },
    {
     "name": "stdout",
     "output_type": "stream",
     "text": [
      "\n"
     ]
    },
    {
     "name": "stderr",
     "output_type": "stream",
     "text": [
      "1739"
     ]
    },
    {
     "name": "stdout",
     "output_type": "stream",
     "text": [
      "n_layer = 6"
     ]
    },
    {
     "name": "stderr",
     "output_type": "stream",
     "text": [
      ", in "
     ]
    },
    {
     "name": "stdout",
     "output_type": "stream",
     "text": [
      "\n"
     ]
    },
    {
     "name": "stderr",
     "output_type": "stream",
     "text": [
      "_wrapped_call_impl"
     ]
    },
    {
     "name": "stdout",
     "output_type": "stream",
     "text": [
      "n_head = 6"
     ]
    },
    {
     "name": "stderr",
     "output_type": "stream",
     "text": [
      "\n"
     ]
    },
    {
     "name": "stdout",
     "output_type": "stream",
     "text": [
      "\n"
     ]
    },
    {
     "name": "stderr",
     "output_type": "stream",
     "text": [
      "    return "
     ]
    },
    {
     "name": "stdout",
     "output_type": "stream",
     "text": [
      "n_embd = 384"
     ]
    },
    {
     "name": "stderr",
     "output_type": "stream",
     "text": [
      "self._call_impl"
     ]
    },
    {
     "name": "stdout",
     "output_type": "stream",
     "text": [
      "\n"
     ]
    },
    {
     "name": "stderr",
     "output_type": "stream",
     "text": [
      "(*args, **kwargs)"
     ]
    },
    {
     "name": "stdout",
     "output_type": "stream",
     "text": [
      "dropout = 0.2"
     ]
    },
    {
     "name": "stderr",
     "output_type": "stream",
     "text": [
      "\n"
     ]
    },
    {
     "name": "stdout",
     "output_type": "stream",
     "text": [
      "\n",
      "\n"
     ]
    },
    {
     "name": "stderr",
     "output_type": "stream",
     "text": [
      "           "
     ]
    },
    {
     "name": "stdout",
     "output_type": "stream",
     "text": [
      "learning_rate = 1e-3  # with baby networks can afford to go a bit higher"
     ]
    },
    {
     "name": "stderr",
     "output_type": "stream",
     "text": [
      "~~~~~~~~~~~~~~~"
     ]
    },
    {
     "name": "stdout",
     "output_type": "stream",
     "text": [
      "\n"
     ]
    },
    {
     "name": "stderr",
     "output_type": "stream",
     "text": [
      "^^^^^^^^^^^^^^^^^"
     ]
    },
    {
     "name": "stdout",
     "output_type": "stream",
     "text": [
      "max_iters = 2000"
     ]
    },
    {
     "name": "stderr",
     "output_type": "stream",
     "text": [
      "\n"
     ]
    },
    {
     "name": "stdout",
     "output_type": "stream",
     "text": [
      "\n"
     ]
    },
    {
     "name": "stderr",
     "output_type": "stream",
     "text": [
      "  File "
     ]
    },
    {
     "name": "stdout",
     "output_type": "stream",
     "text": [
      "lr_decay_iters = 2000  # make equal to max_iters usually"
     ]
    },
    {
     "name": "stderr",
     "output_type": "stream",
     "text": [
      "\"C:\\Users\\user\\AppData\\Local\\Packages\\PythonSoftwareFoundation.Python.3.13_qbz5n2kfra8p0\\LocalCache\\local-packages\\Python313\\site-packages\\torch\\nn\\modules\\module.py\", line "
     ]
    },
    {
     "name": "stdout",
     "output_type": "stream",
     "text": [
      "\n"
     ]
    },
    {
     "name": "stderr",
     "output_type": "stream",
     "text": [
      "1750"
     ]
    },
    {
     "name": "stdout",
     "output_type": "stream",
     "text": [
      "min_lr = 1e-4  # learning_rate / 10 usually"
     ]
    },
    {
     "name": "stderr",
     "output_type": "stream",
     "text": [
      ", in "
     ]
    },
    {
     "name": "stdout",
     "output_type": "stream",
     "text": [
      "\n"
     ]
    },
    {
     "name": "stderr",
     "output_type": "stream",
     "text": [
      "_call_impl"
     ]
    },
    {
     "name": "stdout",
     "output_type": "stream",
     "text": [
      "beta2 = 0.99  # make a bit bigger because number of tokens per iter is small"
     ]
    },
    {
     "name": "stderr",
     "output_type": "stream",
     "text": [
      "\n"
     ]
    },
    {
     "name": "stdout",
     "output_type": "stream",
     "text": [
      "\n"
     ]
    },
    {
     "name": "stderr",
     "output_type": "stream",
     "text": [
      "    return forward_call(*args, **kwargs)"
     ]
    },
    {
     "name": "stdout",
     "output_type": "stream",
     "text": [
      "\n"
     ]
    },
    {
     "name": "stderr",
     "output_type": "stream",
     "text": [
      "\n"
     ]
    },
    {
     "name": "stdout",
     "output_type": "stream",
     "text": [
      "warmup_iters = 100  # not super necessary potentially"
     ]
    },
    {
     "name": "stderr",
     "output_type": "stream",
     "text": [
      "  File "
     ]
    },
    {
     "name": "stdout",
     "output_type": "stream",
     "text": [
      "\n"
     ]
    },
    {
     "name": "stderr",
     "output_type": "stream",
     "text": [
      "\"c:\\Users\\user\\Desktop\\DI725-Assignment-1\\model.py\""
     ]
    },
    {
     "name": "stdout",
     "output_type": "stream",
     "text": [
      "\n"
     ]
    },
    {
     "name": "stderr",
     "output_type": "stream",
     "text": [
      ", line "
     ]
    },
    {
     "name": "stdout",
     "output_type": "stream",
     "text": [
      "# on macbook also add"
     ]
    },
    {
     "name": "stderr",
     "output_type": "stream",
     "text": [
      "192"
     ]
    },
    {
     "name": "stdout",
     "output_type": "stream",
     "text": [
      "\n"
     ]
    },
    {
     "name": "stderr",
     "output_type": "stream",
     "text": [
      ", in "
     ]
    },
    {
     "name": "stdout",
     "output_type": "stream",
     "text": [
      "# device = 'cpu'  # run on cpu only"
     ]
    },
    {
     "name": "stderr",
     "output_type": "stream",
     "text": [
      "forward"
     ]
    },
    {
     "name": "stdout",
     "output_type": "stream",
     "text": [
      "\n",
      "# compile = False # do not torch compile the model"
     ]
    },
    {
     "name": "stderr",
     "output_type": "stream",
     "text": [
      "\n",
      "    loss = F.cross_entropy(logits.view(-1, logits.size(-1)), targets.view(-1), ignore_index=-1)"
     ]
    },
    {
     "name": "stdout",
     "output_type": "stream",
     "text": [
      "\n",
      "\n"
     ]
    },
    {
     "name": "stderr",
     "output_type": "stream",
     "text": [
      "\n"
     ]
    },
    {
     "name": "stdout",
     "output_type": "stream",
     "text": [
      "Overriding: compile = False"
     ]
    },
    {
     "name": "stderr",
     "output_type": "stream",
     "text": [
      "  File "
     ]
    },
    {
     "name": "stdout",
     "output_type": "stream",
     "text": [
      "\n"
     ]
    },
    {
     "name": "stderr",
     "output_type": "stream",
     "text": [
      "\"C:\\Users\\user\\AppData\\Local\\Packages\\PythonSoftwareFoundation.Python.3.13_qbz5n2kfra8p0\\LocalCache\\local-packages\\Python313\\site-packages\\torch\\nn\\functional.py\""
     ]
    },
    {
     "name": "stdout",
     "output_type": "stream",
     "text": [
      "tokens per iteration will be: 16,384"
     ]
    },
    {
     "name": "stderr",
     "output_type": "stream",
     "text": [
      ", line 3494"
     ]
    },
    {
     "name": "stdout",
     "output_type": "stream",
     "text": [
      "\n"
     ]
    },
    {
     "name": "stderr",
     "output_type": "stream",
     "text": [
      ", in "
     ]
    },
    {
     "name": "stdout",
     "output_type": "stream",
     "text": [
      "found vocab_size = 88 (inside data\\customer_service\\meta.pkl)"
     ]
    },
    {
     "name": "stderr",
     "output_type": "stream",
     "text": [
      "cross_entropy"
     ]
    },
    {
     "name": "stdout",
     "output_type": "stream",
     "text": [
      "\n"
     ]
    },
    {
     "name": "stderr",
     "output_type": "stream",
     "text": [
      "\n"
     ]
    },
    {
     "name": "stdout",
     "output_type": "stream",
     "text": [
      "Initializing a new model from scratch"
     ]
    },
    {
     "name": "stderr",
     "output_type": "stream",
     "text": [
      "    return "
     ]
    },
    {
     "name": "stdout",
     "output_type": "stream",
     "text": [
      "\n",
      "number of parameters: 10.66M"
     ]
    },
    {
     "name": "stderr",
     "output_type": "stream",
     "text": [
      "torch._C._nn.cross_entropy_loss"
     ]
    },
    {
     "name": "stdout",
     "output_type": "stream",
     "text": [
      "\n"
     ]
    },
    {
     "name": "stderr",
     "output_type": "stream",
     "text": [
      "("
     ]
    },
    {
     "name": "stdout",
     "output_type": "stream",
     "text": [
      "num decayed parameter tensors: 27, with 10,750,080 parameters"
     ]
    },
    {
     "name": "stderr",
     "output_type": "stream",
     "text": [
      "\n"
     ]
    },
    {
     "name": "stdout",
     "output_type": "stream",
     "text": [
      "\n"
     ]
    },
    {
     "name": "stderr",
     "output_type": "stream",
     "text": [
      "           "
     ]
    },
    {
     "name": "stdout",
     "output_type": "stream",
     "text": [
      "num non-decayed parameter tensors: 13, with 4,992 parameters"
     ]
    },
    {
     "name": "stderr",
     "output_type": "stream",
     "text": [
      "~~~~~~~~~~~~~~~~~~~~~~~~~~~~~~~"
     ]
    },
    {
     "name": "stdout",
     "output_type": "stream",
     "text": [
      "\n"
     ]
    },
    {
     "name": "stderr",
     "output_type": "stream",
     "text": [
      "^"
     ]
    },
    {
     "name": "stdout",
     "output_type": "stream",
     "text": [
      "using fused AdamW: True"
     ]
    },
    {
     "name": "stderr",
     "output_type": "stream",
     "text": [
      "\n"
     ]
    },
    {
     "name": "stdout",
     "output_type": "stream",
     "text": [
      "\n"
     ]
    },
    {
     "name": "stderr",
     "output_type": "stream",
     "text": [
      "        "
     ]
    },
    {
     "name": "stdout",
     "output_type": "stream",
     "text": [
      "x shape: torch.Size([64, 256])"
     ]
    },
    {
     "name": "stderr",
     "output_type": "stream",
     "text": [
      "input,"
     ]
    },
    {
     "name": "stdout",
     "output_type": "stream",
     "text": [
      "\n"
     ]
    },
    {
     "name": "stderr",
     "output_type": "stream",
     "text": [
      "\n"
     ]
    },
    {
     "name": "stdout",
     "output_type": "stream",
     "text": [
      "y shape: torch.Size([64])"
     ]
    },
    {
     "name": "stderr",
     "output_type": "stream",
     "text": [
      "        "
     ]
    },
    {
     "name": "stdout",
     "output_type": "stream",
     "text": [
      "\n"
     ]
    },
    {
     "name": "stderr",
     "output_type": "stream",
     "text": [
      "^^^^^^"
     ]
    },
    {
     "name": "stdout",
     "output_type": "stream",
     "text": [
      "x shape: torch.Size([64, 256])"
     ]
    },
    {
     "name": "stderr",
     "output_type": "stream",
     "text": [
      "\n"
     ]
    },
    {
     "name": "stdout",
     "output_type": "stream",
     "text": [
      "\n"
     ]
    },
    {
     "name": "stderr",
     "output_type": "stream",
     "text": [
      "    ...<4 lines>..."
     ]
    },
    {
     "name": "stdout",
     "output_type": "stream",
     "text": [
      "y shape: torch.Size([64])"
     ]
    },
    {
     "name": "stderr",
     "output_type": "stream",
     "text": [
      "\n"
     ]
    },
    {
     "name": "stdout",
     "output_type": "stream",
     "text": [
      "\n"
     ]
    },
    {
     "name": "stderr",
     "output_type": "stream",
     "text": [
      "        label_smoothing,\n",
      "        ^^^^^^^^^^^^^^^^\n",
      "    )\n",
      "    ^\n",
      "ValueError: Expected input batch_size (16384) to match target batch_size (64).\n"
     ]
    }
   ],
   "source": [
    "!python train.py config/train_sentiment_analysis.py --compile=False"
   ]
  }
 ],
 "metadata": {
  "kernelspec": {
   "display_name": "Python 3",
   "language": "python",
   "name": "python3"
  },
  "language_info": {
   "codemirror_mode": {
    "name": "ipython",
    "version": 3
   },
   "file_extension": ".py",
   "mimetype": "text/x-python",
   "name": "python",
   "nbconvert_exporter": "python",
   "pygments_lexer": "ipython3",
   "version": "3.13.2"
  }
 },
 "nbformat": 4,
 "nbformat_minor": 2
}
