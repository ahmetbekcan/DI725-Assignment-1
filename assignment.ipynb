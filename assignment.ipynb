{
 "cells": [
  {
   "cell_type": "code",
   "execution_count": 2,
   "metadata": {},
   "outputs": [],
   "source": [
    "#!python data/don_char/prepare.py"
   ]
  },
  {
   "cell_type": "markdown",
   "metadata": {},
   "source": []
  },
  {
   "cell_type": "code",
   "execution_count": 3,
   "metadata": {},
   "outputs": [],
   "source": [
    "#%pip install -r \"requirements.txt\""
   ]
  },
  {
   "cell_type": "code",
   "execution_count": 26,
   "metadata": {},
   "outputs": [],
   "source": [
    "import pandas as pd\n",
    "import matplotlib.pyplot as plt\n",
    "import seaborn as sns\n",
    "import numpy as np"
   ]
  },
  {
   "cell_type": "code",
   "execution_count": 5,
   "metadata": {},
   "outputs": [],
   "source": [
    "df = pd.read_csv(\"data/customer_service/train.csv\")"
   ]
  },
  {
   "cell_type": "markdown",
   "metadata": {},
   "source": [
    "# Checked the data"
   ]
  },
  {
   "cell_type": "code",
   "execution_count": 6,
   "metadata": {},
   "outputs": [
    {
     "name": "stdout",
     "output_type": "stream",
     "text": [
      "<class 'pandas.core.frame.DataFrame'>\n",
      "RangeIndex: 970 entries, 0 to 969\n",
      "Data columns (total 11 columns):\n",
      " #   Column                       Non-Null Count  Dtype \n",
      "---  ------                       --------------  ----- \n",
      " 0   issue_area                   970 non-null    object\n",
      " 1   issue_category               970 non-null    object\n",
      " 2   issue_sub_category           970 non-null    object\n",
      " 3   issue_category_sub_category  970 non-null    object\n",
      " 4   customer_sentiment           970 non-null    object\n",
      " 5   product_category             970 non-null    object\n",
      " 6   product_sub_category         970 non-null    object\n",
      " 7   issue_complexity             970 non-null    object\n",
      " 8   agent_experience_level       970 non-null    object\n",
      " 9   agent_experience_level_desc  970 non-null    object\n",
      " 10  conversation                 970 non-null    object\n",
      "dtypes: object(11)\n",
      "memory usage: 83.5+ KB\n"
     ]
    },
    {
     "data": {
      "text/html": [
       "<div>\n",
       "<style scoped>\n",
       "    .dataframe tbody tr th:only-of-type {\n",
       "        vertical-align: middle;\n",
       "    }\n",
       "\n",
       "    .dataframe tbody tr th {\n",
       "        vertical-align: top;\n",
       "    }\n",
       "\n",
       "    .dataframe thead th {\n",
       "        text-align: right;\n",
       "    }\n",
       "</style>\n",
       "<table border=\"1\" class=\"dataframe\">\n",
       "  <thead>\n",
       "    <tr style=\"text-align: right;\">\n",
       "      <th></th>\n",
       "      <th>issue_area</th>\n",
       "      <th>issue_category</th>\n",
       "      <th>issue_sub_category</th>\n",
       "      <th>issue_category_sub_category</th>\n",
       "      <th>customer_sentiment</th>\n",
       "      <th>product_category</th>\n",
       "      <th>product_sub_category</th>\n",
       "      <th>issue_complexity</th>\n",
       "      <th>agent_experience_level</th>\n",
       "      <th>agent_experience_level_desc</th>\n",
       "      <th>conversation</th>\n",
       "    </tr>\n",
       "  </thead>\n",
       "  <tbody>\n",
       "    <tr>\n",
       "      <th>count</th>\n",
       "      <td>970</td>\n",
       "      <td>970</td>\n",
       "      <td>970</td>\n",
       "      <td>970</td>\n",
       "      <td>970</td>\n",
       "      <td>970</td>\n",
       "      <td>970</td>\n",
       "      <td>970</td>\n",
       "      <td>970</td>\n",
       "      <td>970</td>\n",
       "      <td>970</td>\n",
       "    </tr>\n",
       "    <tr>\n",
       "      <th>unique</th>\n",
       "      <td>6</td>\n",
       "      <td>40</td>\n",
       "      <td>109</td>\n",
       "      <td>109</td>\n",
       "      <td>3</td>\n",
       "      <td>3</td>\n",
       "      <td>50</td>\n",
       "      <td>3</td>\n",
       "      <td>3</td>\n",
       "      <td>3</td>\n",
       "      <td>968</td>\n",
       "    </tr>\n",
       "    <tr>\n",
       "      <th>top</th>\n",
       "      <td>Cancellations and returns</td>\n",
       "      <td>Return and Exchange</td>\n",
       "      <td>Verification requirement for mobile number or ...</td>\n",
       "      <td>Mobile Number and Email Verification -&gt; Verifi...</td>\n",
       "      <td>neutral</td>\n",
       "      <td>Appliances</td>\n",
       "      <td>Bp Monitor</td>\n",
       "      <td>less</td>\n",
       "      <td>junior</td>\n",
       "      <td>handles customer inquiries independently, poss...</td>\n",
       "      <td>Agent: You're welcome, Jane. Have a great day!</td>\n",
       "    </tr>\n",
       "    <tr>\n",
       "      <th>freq</th>\n",
       "      <td>277</td>\n",
       "      <td>92</td>\n",
       "      <td>17</td>\n",
       "      <td>17</td>\n",
       "      <td>542</td>\n",
       "      <td>454</td>\n",
       "      <td>26</td>\n",
       "      <td>472</td>\n",
       "      <td>490</td>\n",
       "      <td>490</td>\n",
       "      <td>3</td>\n",
       "    </tr>\n",
       "  </tbody>\n",
       "</table>\n",
       "</div>"
      ],
      "text/plain": [
       "                       issue_area       issue_category  \\\n",
       "count                         970                  970   \n",
       "unique                          6                   40   \n",
       "top     Cancellations and returns  Return and Exchange   \n",
       "freq                          277                   92   \n",
       "\n",
       "                                       issue_sub_category  \\\n",
       "count                                                 970   \n",
       "unique                                                109   \n",
       "top     Verification requirement for mobile number or ...   \n",
       "freq                                                   17   \n",
       "\n",
       "                              issue_category_sub_category customer_sentiment  \\\n",
       "count                                                 970                970   \n",
       "unique                                                109                  3   \n",
       "top     Mobile Number and Email Verification -> Verifi...            neutral   \n",
       "freq                                                   17                542   \n",
       "\n",
       "       product_category product_sub_category issue_complexity  \\\n",
       "count               970                  970              970   \n",
       "unique                3                   50                3   \n",
       "top          Appliances           Bp Monitor             less   \n",
       "freq                454                   26              472   \n",
       "\n",
       "       agent_experience_level  \\\n",
       "count                     970   \n",
       "unique                      3   \n",
       "top                    junior   \n",
       "freq                      490   \n",
       "\n",
       "                              agent_experience_level_desc  \\\n",
       "count                                                 970   \n",
       "unique                                                  3   \n",
       "top     handles customer inquiries independently, poss...   \n",
       "freq                                                  490   \n",
       "\n",
       "                                          conversation  \n",
       "count                                              970  \n",
       "unique                                             968  \n",
       "top     Agent: You're welcome, Jane. Have a great day!  \n",
       "freq                                                 3  "
      ]
     },
     "execution_count": 6,
     "metadata": {},
     "output_type": "execute_result"
    }
   ],
   "source": [
    "df.info()\n",
    "df.describe(include=\"all\")"
   ]
  },
  {
   "cell_type": "code",
   "execution_count": 7,
   "metadata": {},
   "outputs": [
    {
     "data": {
      "text/plain": [
       "customer_sentiment\n",
       "neutral     55.876289\n",
       "negative    42.371134\n",
       "positive     1.752577\n",
       "Name: proportion, dtype: float64"
      ]
     },
     "execution_count": 7,
     "metadata": {},
     "output_type": "execute_result"
    }
   ],
   "source": [
    "df[\"customer_sentiment\"].value_counts(normalize=True) * 100"
   ]
  },
  {
   "cell_type": "code",
   "execution_count": 8,
   "metadata": {},
   "outputs": [
    {
     "data": {
      "text/html": [
       "<div>\n",
       "<style scoped>\n",
       "    .dataframe tbody tr th:only-of-type {\n",
       "        vertical-align: middle;\n",
       "    }\n",
       "\n",
       "    .dataframe tbody tr th {\n",
       "        vertical-align: top;\n",
       "    }\n",
       "\n",
       "    .dataframe thead th {\n",
       "        text-align: right;\n",
       "    }\n",
       "</style>\n",
       "<table border=\"1\" class=\"dataframe\">\n",
       "  <thead>\n",
       "    <tr style=\"text-align: right;\">\n",
       "      <th>customer_sentiment</th>\n",
       "      <th>negative</th>\n",
       "      <th>neutral</th>\n",
       "      <th>positive</th>\n",
       "    </tr>\n",
       "    <tr>\n",
       "      <th>issue_complexity</th>\n",
       "      <th></th>\n",
       "      <th></th>\n",
       "      <th></th>\n",
       "    </tr>\n",
       "  </thead>\n",
       "  <tbody>\n",
       "    <tr>\n",
       "      <th>high</th>\n",
       "      <td>39</td>\n",
       "      <td>40</td>\n",
       "      <td>3</td>\n",
       "    </tr>\n",
       "    <tr>\n",
       "      <th>less</th>\n",
       "      <td>197</td>\n",
       "      <td>268</td>\n",
       "      <td>7</td>\n",
       "    </tr>\n",
       "    <tr>\n",
       "      <th>medium</th>\n",
       "      <td>175</td>\n",
       "      <td>234</td>\n",
       "      <td>7</td>\n",
       "    </tr>\n",
       "  </tbody>\n",
       "</table>\n",
       "</div>"
      ],
      "text/plain": [
       "customer_sentiment  negative  neutral  positive\n",
       "issue_complexity                               \n",
       "high                      39       40         3\n",
       "less                     197      268         7\n",
       "medium                   175      234         7"
      ]
     },
     "execution_count": 8,
     "metadata": {},
     "output_type": "execute_result"
    }
   ],
   "source": [
    "pd.crosstab(df[\"issue_complexity\"], df[\"customer_sentiment\"])"
   ]
  },
  {
   "cell_type": "code",
   "execution_count": 9,
   "metadata": {},
   "outputs": [
    {
     "data": {
      "text/html": [
       "<div>\n",
       "<style scoped>\n",
       "    .dataframe tbody tr th:only-of-type {\n",
       "        vertical-align: middle;\n",
       "    }\n",
       "\n",
       "    .dataframe tbody tr th {\n",
       "        vertical-align: top;\n",
       "    }\n",
       "\n",
       "    .dataframe thead th {\n",
       "        text-align: right;\n",
       "    }\n",
       "</style>\n",
       "<table border=\"1\" class=\"dataframe\">\n",
       "  <thead>\n",
       "    <tr style=\"text-align: right;\">\n",
       "      <th>customer_sentiment</th>\n",
       "      <th>negative</th>\n",
       "      <th>neutral</th>\n",
       "      <th>positive</th>\n",
       "    </tr>\n",
       "    <tr>\n",
       "      <th>agent_experience_level</th>\n",
       "      <th></th>\n",
       "      <th></th>\n",
       "      <th></th>\n",
       "    </tr>\n",
       "  </thead>\n",
       "  <tbody>\n",
       "    <tr>\n",
       "      <th>experienced</th>\n",
       "      <td>147</td>\n",
       "      <td>188</td>\n",
       "      <td>4</td>\n",
       "    </tr>\n",
       "    <tr>\n",
       "      <th>inexperienced</th>\n",
       "      <td>47</td>\n",
       "      <td>93</td>\n",
       "      <td>1</td>\n",
       "    </tr>\n",
       "    <tr>\n",
       "      <th>junior</th>\n",
       "      <td>217</td>\n",
       "      <td>261</td>\n",
       "      <td>12</td>\n",
       "    </tr>\n",
       "  </tbody>\n",
       "</table>\n",
       "</div>"
      ],
      "text/plain": [
       "customer_sentiment      negative  neutral  positive\n",
       "agent_experience_level                             \n",
       "experienced                  147      188         4\n",
       "inexperienced                 47       93         1\n",
       "junior                       217      261        12"
      ]
     },
     "execution_count": 9,
     "metadata": {},
     "output_type": "execute_result"
    }
   ],
   "source": [
    "pd.crosstab(df[\"agent_experience_level\"], df[\"customer_sentiment\"])"
   ]
  },
  {
   "cell_type": "code",
   "execution_count": 10,
   "metadata": {},
   "outputs": [
    {
     "name": "stdout",
     "output_type": "stream",
     "text": [
      "customer_sentiment   negative    neutral  positive\n",
      "issue_complexity                                  \n",
      "high                47.560976  48.780488  3.658537\n",
      "less                41.737288  56.779661  1.483051\n",
      "medium              42.067308  56.250000  1.682692\n",
      "\n",
      "\n",
      "customer_sentiment       negative    neutral  positive\n",
      "agent_experience_level                                \n",
      "experienced             43.362832  55.457227  1.179941\n",
      "inexperienced           33.333333  65.957447  0.709220\n",
      "junior                  44.285714  53.265306  2.448980\n"
     ]
    }
   ],
   "source": [
    "complexity_sentiment = df.groupby(\"issue_complexity\")[\"customer_sentiment\"].value_counts(normalize=True).unstack() * 100\n",
    "print(complexity_sentiment)\n",
    "print(\"\\n\")\n",
    "experience_sentiment = df.groupby(\"agent_experience_level\")[\"customer_sentiment\"].value_counts(normalize=True).unstack() * 100\n",
    "print(experience_sentiment)"
   ]
  },
  {
   "cell_type": "code",
   "execution_count": 11,
   "metadata": {},
   "outputs": [
    {
     "data": {
      "text/plain": [
       "customer_sentiment\n",
       "negative    2433.912409\n",
       "neutral     1973.374539\n",
       "positive    1732.588235\n",
       "Name: conversation_length, dtype: float64"
      ]
     },
     "execution_count": 11,
     "metadata": {},
     "output_type": "execute_result"
    }
   ],
   "source": [
    "df[\"conversation_length\"] = df[\"conversation\"].apply(len)\n",
    "df.groupby(\"customer_sentiment\")[\"conversation_length\"].mean()"
   ]
  },
  {
   "cell_type": "markdown",
   "metadata": {},
   "source": [
    "# Data preparation \n",
    "Customer service data is preprocessed and saved as .npy files. Here, only the last 3 replies given by the users excluding the last 2 replies are taken and saved as X_train and X_val. Also, their corresponding labels are encoded into integer and they are saved as y_train and y_val."
   ]
  },
  {
   "cell_type": "code",
   "execution_count": 40,
   "metadata": {},
   "outputs": [],
   "source": [
    "!python data/customer_service/prepare.py"
   ]
  },
  {
   "cell_type": "code",
   "execution_count": null,
   "metadata": {},
   "outputs": [],
   "source": []
  }
 ],
 "metadata": {
  "kernelspec": {
   "display_name": "Python 3",
   "language": "python",
   "name": "python3"
  },
  "language_info": {
   "codemirror_mode": {
    "name": "ipython",
    "version": 3
   },
   "file_extension": ".py",
   "mimetype": "text/x-python",
   "name": "python",
   "nbconvert_exporter": "python",
   "pygments_lexer": "ipython3",
   "version": "3.13.2"
  }
 },
 "nbformat": 4,
 "nbformat_minor": 2
}
