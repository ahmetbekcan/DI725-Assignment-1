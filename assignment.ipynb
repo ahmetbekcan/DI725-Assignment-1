{
 "cells": [
  {
   "cell_type": "markdown",
   "metadata": {},
   "source": []
  },
  {
   "cell_type": "code",
   "execution_count": 14,
   "metadata": {},
   "outputs": [
    {
     "name": "stdout",
     "output_type": "stream",
     "text": [
      "Defaulting to user installation because normal site-packages is not writeable\n",
      "Requirement already satisfied: torch in c:\\users\\user\\appdata\\local\\packages\\pythonsoftwarefoundation.python.3.13_qbz5n2kfra8p0\\localcache\\local-packages\\python313\\site-packages (from -r requirements.txt (line 1)) (2.6.0+cu118)\n",
      "Requirement already satisfied: numpy in c:\\users\\user\\appdata\\local\\packages\\pythonsoftwarefoundation.python.3.13_qbz5n2kfra8p0\\localcache\\local-packages\\python313\\site-packages (from -r requirements.txt (line 2)) (2.2.4)\n",
      "Requirement already satisfied: transformers in c:\\users\\user\\appdata\\local\\packages\\pythonsoftwarefoundation.python.3.13_qbz5n2kfra8p0\\localcache\\local-packages\\python313\\site-packages (from -r requirements.txt (line 3)) (4.50.3)\n",
      "Requirement already satisfied: datasets in c:\\users\\user\\appdata\\local\\packages\\pythonsoftwarefoundation.python.3.13_qbz5n2kfra8p0\\localcache\\local-packages\\python313\\site-packages (from -r requirements.txt (line 4)) (3.5.0)\n",
      "Requirement already satisfied: tiktoken in c:\\users\\user\\appdata\\local\\packages\\pythonsoftwarefoundation.python.3.13_qbz5n2kfra8p0\\localcache\\local-packages\\python313\\site-packages (from -r requirements.txt (line 5)) (0.9.0)\n",
      "Requirement already satisfied: wandb in c:\\users\\user\\appdata\\local\\packages\\pythonsoftwarefoundation.python.3.13_qbz5n2kfra8p0\\localcache\\local-packages\\python313\\site-packages (from -r requirements.txt (line 6)) (0.19.8)\n",
      "Requirement already satisfied: tqdm in c:\\users\\user\\appdata\\local\\packages\\pythonsoftwarefoundation.python.3.13_qbz5n2kfra8p0\\localcache\\local-packages\\python313\\site-packages (from -r requirements.txt (line 7)) (4.67.1)\n",
      "Requirement already satisfied: pandas in c:\\users\\user\\appdata\\local\\packages\\pythonsoftwarefoundation.python.3.13_qbz5n2kfra8p0\\localcache\\local-packages\\python313\\site-packages (from -r requirements.txt (line 8)) (2.2.3)\n",
      "Requirement already satisfied: seaborn in c:\\users\\user\\appdata\\local\\packages\\pythonsoftwarefoundation.python.3.13_qbz5n2kfra8p0\\localcache\\local-packages\\python313\\site-packages (from -r requirements.txt (line 9)) (0.13.2)\n",
      "Requirement already satisfied: matplotlib in c:\\users\\user\\appdata\\local\\packages\\pythonsoftwarefoundation.python.3.13_qbz5n2kfra8p0\\localcache\\local-packages\\python313\\site-packages (from -r requirements.txt (line 10)) (3.10.1)\n",
      "Collecting scikit-learn (from -r requirements.txt (line 11))\n",
      "  Downloading scikit_learn-1.6.1-cp313-cp313-win_amd64.whl.metadata (15 kB)\n",
      "Requirement already satisfied: filelock in c:\\users\\user\\appdata\\local\\packages\\pythonsoftwarefoundation.python.3.13_qbz5n2kfra8p0\\localcache\\local-packages\\python313\\site-packages (from torch->-r requirements.txt (line 1)) (3.18.0)\n",
      "Requirement already satisfied: typing-extensions>=4.10.0 in c:\\users\\user\\appdata\\local\\packages\\pythonsoftwarefoundation.python.3.13_qbz5n2kfra8p0\\localcache\\local-packages\\python313\\site-packages (from torch->-r requirements.txt (line 1)) (4.13.0)\n",
      "Requirement already satisfied: networkx in c:\\users\\user\\appdata\\local\\packages\\pythonsoftwarefoundation.python.3.13_qbz5n2kfra8p0\\localcache\\local-packages\\python313\\site-packages (from torch->-r requirements.txt (line 1)) (3.4.2)\n",
      "Requirement already satisfied: jinja2 in c:\\users\\user\\appdata\\local\\packages\\pythonsoftwarefoundation.python.3.13_qbz5n2kfra8p0\\localcache\\local-packages\\python313\\site-packages (from torch->-r requirements.txt (line 1)) (3.1.6)\n",
      "Requirement already satisfied: fsspec in c:\\users\\user\\appdata\\local\\packages\\pythonsoftwarefoundation.python.3.13_qbz5n2kfra8p0\\localcache\\local-packages\\python313\\site-packages (from torch->-r requirements.txt (line 1)) (2024.12.0)\n",
      "Requirement already satisfied: setuptools in c:\\users\\user\\appdata\\local\\packages\\pythonsoftwarefoundation.python.3.13_qbz5n2kfra8p0\\localcache\\local-packages\\python313\\site-packages (from torch->-r requirements.txt (line 1)) (78.1.0)\n",
      "Requirement already satisfied: sympy==1.13.1 in c:\\users\\user\\appdata\\local\\packages\\pythonsoftwarefoundation.python.3.13_qbz5n2kfra8p0\\localcache\\local-packages\\python313\\site-packages (from torch->-r requirements.txt (line 1)) (1.13.1)\n",
      "Requirement already satisfied: mpmath<1.4,>=1.1.0 in c:\\users\\user\\appdata\\local\\packages\\pythonsoftwarefoundation.python.3.13_qbz5n2kfra8p0\\localcache\\local-packages\\python313\\site-packages (from sympy==1.13.1->torch->-r requirements.txt (line 1)) (1.3.0)\n",
      "Requirement already satisfied: huggingface-hub<1.0,>=0.26.0 in c:\\users\\user\\appdata\\local\\packages\\pythonsoftwarefoundation.python.3.13_qbz5n2kfra8p0\\localcache\\local-packages\\python313\\site-packages (from transformers->-r requirements.txt (line 3)) (0.30.1)\n",
      "Requirement already satisfied: packaging>=20.0 in c:\\users\\user\\appdata\\local\\packages\\pythonsoftwarefoundation.python.3.13_qbz5n2kfra8p0\\localcache\\local-packages\\python313\\site-packages (from transformers->-r requirements.txt (line 3)) (24.2)\n",
      "Requirement already satisfied: pyyaml>=5.1 in c:\\users\\user\\appdata\\local\\packages\\pythonsoftwarefoundation.python.3.13_qbz5n2kfra8p0\\localcache\\local-packages\\python313\\site-packages (from transformers->-r requirements.txt (line 3)) (6.0.2)\n",
      "Requirement already satisfied: regex!=2019.12.17 in c:\\users\\user\\appdata\\local\\packages\\pythonsoftwarefoundation.python.3.13_qbz5n2kfra8p0\\localcache\\local-packages\\python313\\site-packages (from transformers->-r requirements.txt (line 3)) (2024.11.6)\n",
      "Requirement already satisfied: requests in c:\\users\\user\\appdata\\local\\packages\\pythonsoftwarefoundation.python.3.13_qbz5n2kfra8p0\\localcache\\local-packages\\python313\\site-packages (from transformers->-r requirements.txt (line 3)) (2.32.3)\n",
      "Requirement already satisfied: tokenizers<0.22,>=0.21 in c:\\users\\user\\appdata\\local\\packages\\pythonsoftwarefoundation.python.3.13_qbz5n2kfra8p0\\localcache\\local-packages\\python313\\site-packages (from transformers->-r requirements.txt (line 3)) (0.21.1)\n",
      "Requirement already satisfied: safetensors>=0.4.3 in c:\\users\\user\\appdata\\local\\packages\\pythonsoftwarefoundation.python.3.13_qbz5n2kfra8p0\\localcache\\local-packages\\python313\\site-packages (from transformers->-r requirements.txt (line 3)) (0.5.3)\n",
      "Requirement already satisfied: pyarrow>=15.0.0 in c:\\users\\user\\appdata\\local\\packages\\pythonsoftwarefoundation.python.3.13_qbz5n2kfra8p0\\localcache\\local-packages\\python313\\site-packages (from datasets->-r requirements.txt (line 4)) (19.0.1)\n",
      "Requirement already satisfied: dill<0.3.9,>=0.3.0 in c:\\users\\user\\appdata\\local\\packages\\pythonsoftwarefoundation.python.3.13_qbz5n2kfra8p0\\localcache\\local-packages\\python313\\site-packages (from datasets->-r requirements.txt (line 4)) (0.3.8)\n",
      "Requirement already satisfied: xxhash in c:\\users\\user\\appdata\\local\\packages\\pythonsoftwarefoundation.python.3.13_qbz5n2kfra8p0\\localcache\\local-packages\\python313\\site-packages (from datasets->-r requirements.txt (line 4)) (3.5.0)\n",
      "Requirement already satisfied: multiprocess<0.70.17 in c:\\users\\user\\appdata\\local\\packages\\pythonsoftwarefoundation.python.3.13_qbz5n2kfra8p0\\localcache\\local-packages\\python313\\site-packages (from datasets->-r requirements.txt (line 4)) (0.70.16)\n",
      "Requirement already satisfied: aiohttp in c:\\users\\user\\appdata\\local\\packages\\pythonsoftwarefoundation.python.3.13_qbz5n2kfra8p0\\localcache\\local-packages\\python313\\site-packages (from datasets->-r requirements.txt (line 4)) (3.11.15)\n",
      "Requirement already satisfied: click!=8.0.0,>=7.1 in c:\\users\\user\\appdata\\local\\packages\\pythonsoftwarefoundation.python.3.13_qbz5n2kfra8p0\\localcache\\local-packages\\python313\\site-packages (from wandb->-r requirements.txt (line 6)) (8.1.8)\n",
      "Requirement already satisfied: docker-pycreds>=0.4.0 in c:\\users\\user\\appdata\\local\\packages\\pythonsoftwarefoundation.python.3.13_qbz5n2kfra8p0\\localcache\\local-packages\\python313\\site-packages (from wandb->-r requirements.txt (line 6)) (0.4.0)\n",
      "Requirement already satisfied: gitpython!=3.1.29,>=1.0.0 in c:\\users\\user\\appdata\\local\\packages\\pythonsoftwarefoundation.python.3.13_qbz5n2kfra8p0\\localcache\\local-packages\\python313\\site-packages (from wandb->-r requirements.txt (line 6)) (3.1.44)\n",
      "Requirement already satisfied: platformdirs in c:\\users\\user\\appdata\\local\\packages\\pythonsoftwarefoundation.python.3.13_qbz5n2kfra8p0\\localcache\\local-packages\\python313\\site-packages (from wandb->-r requirements.txt (line 6)) (4.3.7)\n",
      "Requirement already satisfied: protobuf!=4.21.0,!=5.28.0,<6,>=3.19.0 in c:\\users\\user\\appdata\\local\\packages\\pythonsoftwarefoundation.python.3.13_qbz5n2kfra8p0\\localcache\\local-packages\\python313\\site-packages (from wandb->-r requirements.txt (line 6)) (5.29.4)\n",
      "Requirement already satisfied: psutil>=5.0.0 in c:\\users\\user\\appdata\\local\\packages\\pythonsoftwarefoundation.python.3.13_qbz5n2kfra8p0\\localcache\\local-packages\\python313\\site-packages (from wandb->-r requirements.txt (line 6)) (7.0.0)\n",
      "Requirement already satisfied: pydantic<3,>=2.6 in c:\\users\\user\\appdata\\local\\packages\\pythonsoftwarefoundation.python.3.13_qbz5n2kfra8p0\\localcache\\local-packages\\python313\\site-packages (from wandb->-r requirements.txt (line 6)) (2.11.1)\n",
      "Requirement already satisfied: sentry-sdk>=2.0.0 in c:\\users\\user\\appdata\\local\\packages\\pythonsoftwarefoundation.python.3.13_qbz5n2kfra8p0\\localcache\\local-packages\\python313\\site-packages (from wandb->-r requirements.txt (line 6)) (2.25.0)\n",
      "Requirement already satisfied: setproctitle in c:\\users\\user\\appdata\\local\\packages\\pythonsoftwarefoundation.python.3.13_qbz5n2kfra8p0\\localcache\\local-packages\\python313\\site-packages (from wandb->-r requirements.txt (line 6)) (1.3.5)\n",
      "Requirement already satisfied: colorama in c:\\users\\user\\appdata\\local\\packages\\pythonsoftwarefoundation.python.3.13_qbz5n2kfra8p0\\localcache\\local-packages\\python313\\site-packages (from tqdm->-r requirements.txt (line 7)) (0.4.6)\n",
      "Requirement already satisfied: python-dateutil>=2.8.2 in c:\\users\\user\\appdata\\local\\packages\\pythonsoftwarefoundation.python.3.13_qbz5n2kfra8p0\\localcache\\local-packages\\python313\\site-packages (from pandas->-r requirements.txt (line 8)) (2.9.0.post0)\n",
      "Requirement already satisfied: pytz>=2020.1 in c:\\users\\user\\appdata\\local\\packages\\pythonsoftwarefoundation.python.3.13_qbz5n2kfra8p0\\localcache\\local-packages\\python313\\site-packages (from pandas->-r requirements.txt (line 8)) (2025.2)\n",
      "Requirement already satisfied: tzdata>=2022.7 in c:\\users\\user\\appdata\\local\\packages\\pythonsoftwarefoundation.python.3.13_qbz5n2kfra8p0\\localcache\\local-packages\\python313\\site-packages (from pandas->-r requirements.txt (line 8)) (2025.2)\n",
      "Requirement already satisfied: contourpy>=1.0.1 in c:\\users\\user\\appdata\\local\\packages\\pythonsoftwarefoundation.python.3.13_qbz5n2kfra8p0\\localcache\\local-packages\\python313\\site-packages (from matplotlib->-r requirements.txt (line 10)) (1.3.1)\n",
      "Requirement already satisfied: cycler>=0.10 in c:\\users\\user\\appdata\\local\\packages\\pythonsoftwarefoundation.python.3.13_qbz5n2kfra8p0\\localcache\\local-packages\\python313\\site-packages (from matplotlib->-r requirements.txt (line 10)) (0.12.1)\n",
      "Requirement already satisfied: fonttools>=4.22.0 in c:\\users\\user\\appdata\\local\\packages\\pythonsoftwarefoundation.python.3.13_qbz5n2kfra8p0\\localcache\\local-packages\\python313\\site-packages (from matplotlib->-r requirements.txt (line 10)) (4.56.0)\n",
      "Requirement already satisfied: kiwisolver>=1.3.1 in c:\\users\\user\\appdata\\local\\packages\\pythonsoftwarefoundation.python.3.13_qbz5n2kfra8p0\\localcache\\local-packages\\python313\\site-packages (from matplotlib->-r requirements.txt (line 10)) (1.4.8)\n",
      "Requirement already satisfied: pillow>=8 in c:\\users\\user\\appdata\\local\\packages\\pythonsoftwarefoundation.python.3.13_qbz5n2kfra8p0\\localcache\\local-packages\\python313\\site-packages (from matplotlib->-r requirements.txt (line 10)) (11.2.0)\n",
      "Requirement already satisfied: pyparsing>=2.3.1 in c:\\users\\user\\appdata\\local\\packages\\pythonsoftwarefoundation.python.3.13_qbz5n2kfra8p0\\localcache\\local-packages\\python313\\site-packages (from matplotlib->-r requirements.txt (line 10)) (3.2.3)\n",
      "Collecting scipy>=1.6.0 (from scikit-learn->-r requirements.txt (line 11))\n",
      "  Downloading scipy-1.15.2-cp313-cp313-win_amd64.whl.metadata (60 kB)\n",
      "Collecting joblib>=1.2.0 (from scikit-learn->-r requirements.txt (line 11))\n",
      "  Downloading joblib-1.4.2-py3-none-any.whl.metadata (5.4 kB)\n",
      "Collecting threadpoolctl>=3.1.0 (from scikit-learn->-r requirements.txt (line 11))\n",
      "  Downloading threadpoolctl-3.6.0-py3-none-any.whl.metadata (13 kB)\n",
      "Requirement already satisfied: six>=1.4.0 in c:\\users\\user\\appdata\\local\\packages\\pythonsoftwarefoundation.python.3.13_qbz5n2kfra8p0\\localcache\\local-packages\\python313\\site-packages (from docker-pycreds>=0.4.0->wandb->-r requirements.txt (line 6)) (1.17.0)\n",
      "Requirement already satisfied: aiohappyeyeballs>=2.3.0 in c:\\users\\user\\appdata\\local\\packages\\pythonsoftwarefoundation.python.3.13_qbz5n2kfra8p0\\localcache\\local-packages\\python313\\site-packages (from aiohttp->datasets->-r requirements.txt (line 4)) (2.6.1)\n",
      "Requirement already satisfied: aiosignal>=1.1.2 in c:\\users\\user\\appdata\\local\\packages\\pythonsoftwarefoundation.python.3.13_qbz5n2kfra8p0\\localcache\\local-packages\\python313\\site-packages (from aiohttp->datasets->-r requirements.txt (line 4)) (1.3.2)\n",
      "Requirement already satisfied: attrs>=17.3.0 in c:\\users\\user\\appdata\\local\\packages\\pythonsoftwarefoundation.python.3.13_qbz5n2kfra8p0\\localcache\\local-packages\\python313\\site-packages (from aiohttp->datasets->-r requirements.txt (line 4)) (25.3.0)\n",
      "Requirement already satisfied: frozenlist>=1.1.1 in c:\\users\\user\\appdata\\local\\packages\\pythonsoftwarefoundation.python.3.13_qbz5n2kfra8p0\\localcache\\local-packages\\python313\\site-packages (from aiohttp->datasets->-r requirements.txt (line 4)) (1.5.0)\n",
      "Requirement already satisfied: multidict<7.0,>=4.5 in c:\\users\\user\\appdata\\local\\packages\\pythonsoftwarefoundation.python.3.13_qbz5n2kfra8p0\\localcache\\local-packages\\python313\\site-packages (from aiohttp->datasets->-r requirements.txt (line 4)) (6.3.0)\n",
      "Requirement already satisfied: propcache>=0.2.0 in c:\\users\\user\\appdata\\local\\packages\\pythonsoftwarefoundation.python.3.13_qbz5n2kfra8p0\\localcache\\local-packages\\python313\\site-packages (from aiohttp->datasets->-r requirements.txt (line 4)) (0.3.1)\n",
      "Requirement already satisfied: yarl<2.0,>=1.17.0 in c:\\users\\user\\appdata\\local\\packages\\pythonsoftwarefoundation.python.3.13_qbz5n2kfra8p0\\localcache\\local-packages\\python313\\site-packages (from aiohttp->datasets->-r requirements.txt (line 4)) (1.18.3)\n",
      "Requirement already satisfied: gitdb<5,>=4.0.1 in c:\\users\\user\\appdata\\local\\packages\\pythonsoftwarefoundation.python.3.13_qbz5n2kfra8p0\\localcache\\local-packages\\python313\\site-packages (from gitpython!=3.1.29,>=1.0.0->wandb->-r requirements.txt (line 6)) (4.0.12)\n",
      "Requirement already satisfied: annotated-types>=0.6.0 in c:\\users\\user\\appdata\\local\\packages\\pythonsoftwarefoundation.python.3.13_qbz5n2kfra8p0\\localcache\\local-packages\\python313\\site-packages (from pydantic<3,>=2.6->wandb->-r requirements.txt (line 6)) (0.7.0)\n",
      "Requirement already satisfied: pydantic-core==2.33.0 in c:\\users\\user\\appdata\\local\\packages\\pythonsoftwarefoundation.python.3.13_qbz5n2kfra8p0\\localcache\\local-packages\\python313\\site-packages (from pydantic<3,>=2.6->wandb->-r requirements.txt (line 6)) (2.33.0)\n",
      "Requirement already satisfied: typing-inspection>=0.4.0 in c:\\users\\user\\appdata\\local\\packages\\pythonsoftwarefoundation.python.3.13_qbz5n2kfra8p0\\localcache\\local-packages\\python313\\site-packages (from pydantic<3,>=2.6->wandb->-r requirements.txt (line 6)) (0.4.0)\n",
      "Requirement already satisfied: charset-normalizer<4,>=2 in c:\\users\\user\\appdata\\local\\packages\\pythonsoftwarefoundation.python.3.13_qbz5n2kfra8p0\\localcache\\local-packages\\python313\\site-packages (from requests->transformers->-r requirements.txt (line 3)) (3.4.1)\n",
      "Requirement already satisfied: idna<4,>=2.5 in c:\\users\\user\\appdata\\local\\packages\\pythonsoftwarefoundation.python.3.13_qbz5n2kfra8p0\\localcache\\local-packages\\python313\\site-packages (from requests->transformers->-r requirements.txt (line 3)) (3.10)\n",
      "Requirement already satisfied: urllib3<3,>=1.21.1 in c:\\users\\user\\appdata\\local\\packages\\pythonsoftwarefoundation.python.3.13_qbz5n2kfra8p0\\localcache\\local-packages\\python313\\site-packages (from requests->transformers->-r requirements.txt (line 3)) (2.3.0)\n",
      "Requirement already satisfied: certifi>=2017.4.17 in c:\\users\\user\\appdata\\local\\packages\\pythonsoftwarefoundation.python.3.13_qbz5n2kfra8p0\\localcache\\local-packages\\python313\\site-packages (from requests->transformers->-r requirements.txt (line 3)) (2025.1.31)\n",
      "Requirement already satisfied: MarkupSafe>=2.0 in c:\\users\\user\\appdata\\local\\packages\\pythonsoftwarefoundation.python.3.13_qbz5n2kfra8p0\\localcache\\local-packages\\python313\\site-packages (from jinja2->torch->-r requirements.txt (line 1)) (3.0.2)\n",
      "Requirement already satisfied: smmap<6,>=3.0.1 in c:\\users\\user\\appdata\\local\\packages\\pythonsoftwarefoundation.python.3.13_qbz5n2kfra8p0\\localcache\\local-packages\\python313\\site-packages (from gitdb<5,>=4.0.1->gitpython!=3.1.29,>=1.0.0->wandb->-r requirements.txt (line 6)) (5.0.2)\n",
      "Downloading scikit_learn-1.6.1-cp313-cp313-win_amd64.whl (11.1 MB)\n",
      "   ---------------------------------------- 0.0/11.1 MB ? eta -:--:--\n",
      "   -- ------------------------------------- 0.8/11.1 MB 4.6 MB/s eta 0:00:03\n",
      "   ------------- -------------------------- 3.7/11.1 MB 10.6 MB/s eta 0:00:01\n",
      "   ------------------- -------------------- 5.5/11.1 MB 11.1 MB/s eta 0:00:01\n",
      "   ----------------------- ---------------- 6.6/11.1 MB 8.4 MB/s eta 0:00:01\n",
      "   ----------------------------------- ---- 9.7/11.1 MB 9.9 MB/s eta 0:00:01\n",
      "   ---------------------------------------- 11.1/11.1 MB 9.9 MB/s eta 0:00:00\n",
      "Downloading joblib-1.4.2-py3-none-any.whl (301 kB)\n",
      "Downloading scipy-1.15.2-cp313-cp313-win_amd64.whl (41.0 MB)\n",
      "   ---------------------------------------- 0.0/41.0 MB ? eta -:--:--\n",
      "   -- ------------------------------------- 2.9/41.0 MB 13.6 MB/s eta 0:00:03\n",
      "   ----- ---------------------------------- 5.5/41.0 MB 13.3 MB/s eta 0:00:03\n",
      "   ------- -------------------------------- 8.1/41.0 MB 12.6 MB/s eta 0:00:03\n",
      "   ---------- ----------------------------- 10.7/41.0 MB 12.7 MB/s eta 0:00:03\n",
      "   ------------ --------------------------- 13.1/41.0 MB 12.5 MB/s eta 0:00:03\n",
      "   --------------- ------------------------ 16.0/41.0 MB 12.6 MB/s eta 0:00:02\n",
      "   ----------------- ---------------------- 18.4/41.0 MB 12.5 MB/s eta 0:00:02\n",
      "   -------------------- ------------------- 21.2/41.0 MB 12.5 MB/s eta 0:00:02\n",
      "   ----------------------- ---------------- 23.9/41.0 MB 12.5 MB/s eta 0:00:02\n",
      "   ------------------------- -------------- 26.5/41.0 MB 12.4 MB/s eta 0:00:02\n",
      "   ---------------------------- ----------- 28.8/41.0 MB 12.4 MB/s eta 0:00:01\n",
      "   ------------------------------ --------- 31.7/41.0 MB 12.4 MB/s eta 0:00:01\n",
      "   --------------------------------- ------ 34.3/41.0 MB 12.4 MB/s eta 0:00:01\n",
      "   ----------------------------------- ---- 36.4/41.0 MB 12.3 MB/s eta 0:00:01\n",
      "   -------------------------------------- - 39.6/41.0 MB 12.4 MB/s eta 0:00:01\n",
      "   ---------------------------------------- 41.0/41.0 MB 12.1 MB/s eta 0:00:00\n",
      "Downloading threadpoolctl-3.6.0-py3-none-any.whl (18 kB)\n",
      "Installing collected packages: threadpoolctl, scipy, joblib, scikit-learn\n",
      "Successfully installed joblib-1.4.2 scikit-learn-1.6.1 scipy-1.15.2 threadpoolctl-3.6.0\n",
      "Note: you may need to restart the kernel to use updated packages.\n"
     ]
    }
   ],
   "source": [
    "%pip install -r \"requirements.txt\""
   ]
  },
  {
   "cell_type": "code",
   "execution_count": 26,
   "metadata": {},
   "outputs": [],
   "source": [
    "import pandas as pd\n",
    "import matplotlib.pyplot as plt\n",
    "import seaborn as sns\n",
    "import numpy as np"
   ]
  },
  {
   "cell_type": "code",
   "execution_count": 5,
   "metadata": {},
   "outputs": [],
   "source": [
    "df = pd.read_csv(\"data/customer_service/train.csv\")"
   ]
  },
  {
   "cell_type": "markdown",
   "metadata": {},
   "source": [
    "# Data Exploration \n",
    "Checked the overall information about the dataset"
   ]
  },
  {
   "cell_type": "code",
   "execution_count": 48,
   "metadata": {},
   "outputs": [
    {
     "name": "stdout",
     "output_type": "stream",
     "text": [
      "<class 'pandas.core.frame.DataFrame'>\n",
      "RangeIndex: 970 entries, 0 to 969\n",
      "Data columns (total 12 columns):\n",
      " #   Column                       Non-Null Count  Dtype \n",
      "---  ------                       --------------  ----- \n",
      " 0   issue_area                   970 non-null    object\n",
      " 1   issue_category               970 non-null    object\n",
      " 2   issue_sub_category           970 non-null    object\n",
      " 3   issue_category_sub_category  970 non-null    object\n",
      " 4   customer_sentiment           970 non-null    object\n",
      " 5   product_category             970 non-null    object\n",
      " 6   product_sub_category         970 non-null    object\n",
      " 7   issue_complexity             970 non-null    object\n",
      " 8   agent_experience_level       970 non-null    object\n",
      " 9   agent_experience_level_desc  970 non-null    object\n",
      " 10  conversation                 970 non-null    object\n",
      " 11  conversation_length          970 non-null    int64 \n",
      "dtypes: int64(1), object(11)\n",
      "memory usage: 91.1+ KB\n"
     ]
    },
    {
     "data": {
      "text/html": [
       "<div>\n",
       "<style scoped>\n",
       "    .dataframe tbody tr th:only-of-type {\n",
       "        vertical-align: middle;\n",
       "    }\n",
       "\n",
       "    .dataframe tbody tr th {\n",
       "        vertical-align: top;\n",
       "    }\n",
       "\n",
       "    .dataframe thead th {\n",
       "        text-align: right;\n",
       "    }\n",
       "</style>\n",
       "<table border=\"1\" class=\"dataframe\">\n",
       "  <thead>\n",
       "    <tr style=\"text-align: right;\">\n",
       "      <th></th>\n",
       "      <th>issue_area</th>\n",
       "      <th>issue_category</th>\n",
       "      <th>issue_sub_category</th>\n",
       "      <th>issue_category_sub_category</th>\n",
       "      <th>customer_sentiment</th>\n",
       "      <th>product_category</th>\n",
       "      <th>product_sub_category</th>\n",
       "      <th>issue_complexity</th>\n",
       "      <th>agent_experience_level</th>\n",
       "      <th>agent_experience_level_desc</th>\n",
       "      <th>conversation</th>\n",
       "      <th>conversation_length</th>\n",
       "    </tr>\n",
       "  </thead>\n",
       "  <tbody>\n",
       "    <tr>\n",
       "      <th>count</th>\n",
       "      <td>970</td>\n",
       "      <td>970</td>\n",
       "      <td>970</td>\n",
       "      <td>970</td>\n",
       "      <td>970</td>\n",
       "      <td>970</td>\n",
       "      <td>970</td>\n",
       "      <td>970</td>\n",
       "      <td>970</td>\n",
       "      <td>970</td>\n",
       "      <td>970</td>\n",
       "      <td>970.000000</td>\n",
       "    </tr>\n",
       "    <tr>\n",
       "      <th>unique</th>\n",
       "      <td>6</td>\n",
       "      <td>40</td>\n",
       "      <td>109</td>\n",
       "      <td>109</td>\n",
       "      <td>3</td>\n",
       "      <td>3</td>\n",
       "      <td>50</td>\n",
       "      <td>3</td>\n",
       "      <td>3</td>\n",
       "      <td>3</td>\n",
       "      <td>968</td>\n",
       "      <td>NaN</td>\n",
       "    </tr>\n",
       "    <tr>\n",
       "      <th>top</th>\n",
       "      <td>Cancellations and returns</td>\n",
       "      <td>Return and Exchange</td>\n",
       "      <td>Verification requirement for mobile number or ...</td>\n",
       "      <td>Mobile Number and Email Verification -&gt; Verifi...</td>\n",
       "      <td>neutral</td>\n",
       "      <td>Appliances</td>\n",
       "      <td>Bp Monitor</td>\n",
       "      <td>less</td>\n",
       "      <td>junior</td>\n",
       "      <td>handles customer inquiries independently, poss...</td>\n",
       "      <td>Agent: You're welcome, Jane. Have a great day!</td>\n",
       "      <td>NaN</td>\n",
       "    </tr>\n",
       "    <tr>\n",
       "      <th>freq</th>\n",
       "      <td>277</td>\n",
       "      <td>92</td>\n",
       "      <td>17</td>\n",
       "      <td>17</td>\n",
       "      <td>542</td>\n",
       "      <td>454</td>\n",
       "      <td>26</td>\n",
       "      <td>472</td>\n",
       "      <td>490</td>\n",
       "      <td>490</td>\n",
       "      <td>3</td>\n",
       "      <td>NaN</td>\n",
       "    </tr>\n",
       "    <tr>\n",
       "      <th>mean</th>\n",
       "      <td>NaN</td>\n",
       "      <td>NaN</td>\n",
       "      <td>NaN</td>\n",
       "      <td>NaN</td>\n",
       "      <td>NaN</td>\n",
       "      <td>NaN</td>\n",
       "      <td>NaN</td>\n",
       "      <td>NaN</td>\n",
       "      <td>NaN</td>\n",
       "      <td>NaN</td>\n",
       "      <td>NaN</td>\n",
       "      <td>2164.289691</td>\n",
       "    </tr>\n",
       "    <tr>\n",
       "      <th>std</th>\n",
       "      <td>NaN</td>\n",
       "      <td>NaN</td>\n",
       "      <td>NaN</td>\n",
       "      <td>NaN</td>\n",
       "      <td>NaN</td>\n",
       "      <td>NaN</td>\n",
       "      <td>NaN</td>\n",
       "      <td>NaN</td>\n",
       "      <td>NaN</td>\n",
       "      <td>NaN</td>\n",
       "      <td>NaN</td>\n",
       "      <td>572.653613</td>\n",
       "    </tr>\n",
       "    <tr>\n",
       "      <th>min</th>\n",
       "      <td>NaN</td>\n",
       "      <td>NaN</td>\n",
       "      <td>NaN</td>\n",
       "      <td>NaN</td>\n",
       "      <td>NaN</td>\n",
       "      <td>NaN</td>\n",
       "      <td>NaN</td>\n",
       "      <td>NaN</td>\n",
       "      <td>NaN</td>\n",
       "      <td>NaN</td>\n",
       "      <td>NaN</td>\n",
       "      <td>46.000000</td>\n",
       "    </tr>\n",
       "    <tr>\n",
       "      <th>25%</th>\n",
       "      <td>NaN</td>\n",
       "      <td>NaN</td>\n",
       "      <td>NaN</td>\n",
       "      <td>NaN</td>\n",
       "      <td>NaN</td>\n",
       "      <td>NaN</td>\n",
       "      <td>NaN</td>\n",
       "      <td>NaN</td>\n",
       "      <td>NaN</td>\n",
       "      <td>NaN</td>\n",
       "      <td>NaN</td>\n",
       "      <td>1791.250000</td>\n",
       "    </tr>\n",
       "    <tr>\n",
       "      <th>50%</th>\n",
       "      <td>NaN</td>\n",
       "      <td>NaN</td>\n",
       "      <td>NaN</td>\n",
       "      <td>NaN</td>\n",
       "      <td>NaN</td>\n",
       "      <td>NaN</td>\n",
       "      <td>NaN</td>\n",
       "      <td>NaN</td>\n",
       "      <td>NaN</td>\n",
       "      <td>NaN</td>\n",
       "      <td>NaN</td>\n",
       "      <td>2091.000000</td>\n",
       "    </tr>\n",
       "    <tr>\n",
       "      <th>75%</th>\n",
       "      <td>NaN</td>\n",
       "      <td>NaN</td>\n",
       "      <td>NaN</td>\n",
       "      <td>NaN</td>\n",
       "      <td>NaN</td>\n",
       "      <td>NaN</td>\n",
       "      <td>NaN</td>\n",
       "      <td>NaN</td>\n",
       "      <td>NaN</td>\n",
       "      <td>NaN</td>\n",
       "      <td>NaN</td>\n",
       "      <td>2471.750000</td>\n",
       "    </tr>\n",
       "    <tr>\n",
       "      <th>max</th>\n",
       "      <td>NaN</td>\n",
       "      <td>NaN</td>\n",
       "      <td>NaN</td>\n",
       "      <td>NaN</td>\n",
       "      <td>NaN</td>\n",
       "      <td>NaN</td>\n",
       "      <td>NaN</td>\n",
       "      <td>NaN</td>\n",
       "      <td>NaN</td>\n",
       "      <td>NaN</td>\n",
       "      <td>NaN</td>\n",
       "      <td>5804.000000</td>\n",
       "    </tr>\n",
       "  </tbody>\n",
       "</table>\n",
       "</div>"
      ],
      "text/plain": [
       "                       issue_area       issue_category  \\\n",
       "count                         970                  970   \n",
       "unique                          6                   40   \n",
       "top     Cancellations and returns  Return and Exchange   \n",
       "freq                          277                   92   \n",
       "mean                          NaN                  NaN   \n",
       "std                           NaN                  NaN   \n",
       "min                           NaN                  NaN   \n",
       "25%                           NaN                  NaN   \n",
       "50%                           NaN                  NaN   \n",
       "75%                           NaN                  NaN   \n",
       "max                           NaN                  NaN   \n",
       "\n",
       "                                       issue_sub_category  \\\n",
       "count                                                 970   \n",
       "unique                                                109   \n",
       "top     Verification requirement for mobile number or ...   \n",
       "freq                                                   17   \n",
       "mean                                                  NaN   \n",
       "std                                                   NaN   \n",
       "min                                                   NaN   \n",
       "25%                                                   NaN   \n",
       "50%                                                   NaN   \n",
       "75%                                                   NaN   \n",
       "max                                                   NaN   \n",
       "\n",
       "                              issue_category_sub_category customer_sentiment  \\\n",
       "count                                                 970                970   \n",
       "unique                                                109                  3   \n",
       "top     Mobile Number and Email Verification -> Verifi...            neutral   \n",
       "freq                                                   17                542   \n",
       "mean                                                  NaN                NaN   \n",
       "std                                                   NaN                NaN   \n",
       "min                                                   NaN                NaN   \n",
       "25%                                                   NaN                NaN   \n",
       "50%                                                   NaN                NaN   \n",
       "75%                                                   NaN                NaN   \n",
       "max                                                   NaN                NaN   \n",
       "\n",
       "       product_category product_sub_category issue_complexity  \\\n",
       "count               970                  970              970   \n",
       "unique                3                   50                3   \n",
       "top          Appliances           Bp Monitor             less   \n",
       "freq                454                   26              472   \n",
       "mean                NaN                  NaN              NaN   \n",
       "std                 NaN                  NaN              NaN   \n",
       "min                 NaN                  NaN              NaN   \n",
       "25%                 NaN                  NaN              NaN   \n",
       "50%                 NaN                  NaN              NaN   \n",
       "75%                 NaN                  NaN              NaN   \n",
       "max                 NaN                  NaN              NaN   \n",
       "\n",
       "       agent_experience_level  \\\n",
       "count                     970   \n",
       "unique                      3   \n",
       "top                    junior   \n",
       "freq                      490   \n",
       "mean                      NaN   \n",
       "std                       NaN   \n",
       "min                       NaN   \n",
       "25%                       NaN   \n",
       "50%                       NaN   \n",
       "75%                       NaN   \n",
       "max                       NaN   \n",
       "\n",
       "                              agent_experience_level_desc  \\\n",
       "count                                                 970   \n",
       "unique                                                  3   \n",
       "top     handles customer inquiries independently, poss...   \n",
       "freq                                                  490   \n",
       "mean                                                  NaN   \n",
       "std                                                   NaN   \n",
       "min                                                   NaN   \n",
       "25%                                                   NaN   \n",
       "50%                                                   NaN   \n",
       "75%                                                   NaN   \n",
       "max                                                   NaN   \n",
       "\n",
       "                                          conversation  conversation_length  \n",
       "count                                              970           970.000000  \n",
       "unique                                             968                  NaN  \n",
       "top     Agent: You're welcome, Jane. Have a great day!                  NaN  \n",
       "freq                                                 3                  NaN  \n",
       "mean                                               NaN          2164.289691  \n",
       "std                                                NaN           572.653613  \n",
       "min                                                NaN            46.000000  \n",
       "25%                                                NaN          1791.250000  \n",
       "50%                                                NaN          2091.000000  \n",
       "75%                                                NaN          2471.750000  \n",
       "max                                                NaN          5804.000000  "
      ]
     },
     "execution_count": 48,
     "metadata": {},
     "output_type": "execute_result"
    }
   ],
   "source": [
    "df.info()\n",
    "df.describe(include=\"all\")"
   ]
  },
  {
   "cell_type": "markdown",
   "metadata": {},
   "source": [
    "Checked the percantages of the different sentiments. It is observed that positive sentiments are very rare."
   ]
  },
  {
   "cell_type": "code",
   "execution_count": 49,
   "metadata": {},
   "outputs": [
    {
     "data": {
      "text/plain": [
       "customer_sentiment\n",
       "neutral     55.876289\n",
       "negative    42.371134\n",
       "positive     1.752577\n",
       "Name: proportion, dtype: float64"
      ]
     },
     "execution_count": 49,
     "metadata": {},
     "output_type": "execute_result"
    }
   ],
   "source": [
    "df[\"customer_sentiment\"].value_counts(normalize=True) * 100"
   ]
  },
  {
   "cell_type": "markdown",
   "metadata": {},
   "source": [
    "Checked the issue complexity vs customer sentiment. It was seen that negative sentiment increases as the issue complexity increases."
   ]
  },
  {
   "cell_type": "code",
   "execution_count": 50,
   "metadata": {},
   "outputs": [
    {
     "data": {
      "text/html": [
       "<div>\n",
       "<style scoped>\n",
       "    .dataframe tbody tr th:only-of-type {\n",
       "        vertical-align: middle;\n",
       "    }\n",
       "\n",
       "    .dataframe tbody tr th {\n",
       "        vertical-align: top;\n",
       "    }\n",
       "\n",
       "    .dataframe thead th {\n",
       "        text-align: right;\n",
       "    }\n",
       "</style>\n",
       "<table border=\"1\" class=\"dataframe\">\n",
       "  <thead>\n",
       "    <tr style=\"text-align: right;\">\n",
       "      <th>customer_sentiment</th>\n",
       "      <th>negative</th>\n",
       "      <th>neutral</th>\n",
       "      <th>positive</th>\n",
       "    </tr>\n",
       "    <tr>\n",
       "      <th>issue_complexity</th>\n",
       "      <th></th>\n",
       "      <th></th>\n",
       "      <th></th>\n",
       "    </tr>\n",
       "  </thead>\n",
       "  <tbody>\n",
       "    <tr>\n",
       "      <th>high</th>\n",
       "      <td>39</td>\n",
       "      <td>40</td>\n",
       "      <td>3</td>\n",
       "    </tr>\n",
       "    <tr>\n",
       "      <th>less</th>\n",
       "      <td>197</td>\n",
       "      <td>268</td>\n",
       "      <td>7</td>\n",
       "    </tr>\n",
       "    <tr>\n",
       "      <th>medium</th>\n",
       "      <td>175</td>\n",
       "      <td>234</td>\n",
       "      <td>7</td>\n",
       "    </tr>\n",
       "  </tbody>\n",
       "</table>\n",
       "</div>"
      ],
      "text/plain": [
       "customer_sentiment  negative  neutral  positive\n",
       "issue_complexity                               \n",
       "high                      39       40         3\n",
       "less                     197      268         7\n",
       "medium                   175      234         7"
      ]
     },
     "execution_count": 50,
     "metadata": {},
     "output_type": "execute_result"
    }
   ],
   "source": [
    "pd.crosstab(df[\"issue_complexity\"], df[\"customer_sentiment\"])"
   ]
  },
  {
   "cell_type": "markdown",
   "metadata": {},
   "source": [
    "Similarly, agent experience level vs customer sentiment is examined. Suprisingly, the experience level doesn't have a big affect on the customer sentiment."
   ]
  },
  {
   "cell_type": "code",
   "execution_count": 51,
   "metadata": {},
   "outputs": [
    {
     "data": {
      "text/html": [
       "<div>\n",
       "<style scoped>\n",
       "    .dataframe tbody tr th:only-of-type {\n",
       "        vertical-align: middle;\n",
       "    }\n",
       "\n",
       "    .dataframe tbody tr th {\n",
       "        vertical-align: top;\n",
       "    }\n",
       "\n",
       "    .dataframe thead th {\n",
       "        text-align: right;\n",
       "    }\n",
       "</style>\n",
       "<table border=\"1\" class=\"dataframe\">\n",
       "  <thead>\n",
       "    <tr style=\"text-align: right;\">\n",
       "      <th>customer_sentiment</th>\n",
       "      <th>negative</th>\n",
       "      <th>neutral</th>\n",
       "      <th>positive</th>\n",
       "    </tr>\n",
       "    <tr>\n",
       "      <th>agent_experience_level</th>\n",
       "      <th></th>\n",
       "      <th></th>\n",
       "      <th></th>\n",
       "    </tr>\n",
       "  </thead>\n",
       "  <tbody>\n",
       "    <tr>\n",
       "      <th>experienced</th>\n",
       "      <td>147</td>\n",
       "      <td>188</td>\n",
       "      <td>4</td>\n",
       "    </tr>\n",
       "    <tr>\n",
       "      <th>inexperienced</th>\n",
       "      <td>47</td>\n",
       "      <td>93</td>\n",
       "      <td>1</td>\n",
       "    </tr>\n",
       "    <tr>\n",
       "      <th>junior</th>\n",
       "      <td>217</td>\n",
       "      <td>261</td>\n",
       "      <td>12</td>\n",
       "    </tr>\n",
       "  </tbody>\n",
       "</table>\n",
       "</div>"
      ],
      "text/plain": [
       "customer_sentiment      negative  neutral  positive\n",
       "agent_experience_level                             \n",
       "experienced                  147      188         4\n",
       "inexperienced                 47       93         1\n",
       "junior                       217      261        12"
      ]
     },
     "execution_count": 51,
     "metadata": {},
     "output_type": "execute_result"
    }
   ],
   "source": [
    "pd.crosstab(df[\"agent_experience_level\"], df[\"customer_sentiment\"])"
   ]
  },
  {
   "cell_type": "code",
   "execution_count": 52,
   "metadata": {},
   "outputs": [
    {
     "name": "stdout",
     "output_type": "stream",
     "text": [
      "customer_sentiment   negative    neutral  positive\n",
      "issue_complexity                                  \n",
      "high                47.560976  48.780488  3.658537\n",
      "less                41.737288  56.779661  1.483051\n",
      "medium              42.067308  56.250000  1.682692\n",
      "\n",
      "\n",
      "customer_sentiment       negative    neutral  positive\n",
      "agent_experience_level                                \n",
      "experienced             43.362832  55.457227  1.179941\n",
      "inexperienced           33.333333  65.957447  0.709220\n",
      "junior                  44.285714  53.265306  2.448980\n"
     ]
    }
   ],
   "source": [
    "complexity_sentiment = df.groupby(\"issue_complexity\")[\"customer_sentiment\"].value_counts(normalize=True).unstack() * 100\n",
    "print(complexity_sentiment)\n",
    "print(\"\\n\")\n",
    "experience_sentiment = df.groupby(\"agent_experience_level\")[\"customer_sentiment\"].value_counts(normalize=True).unstack() * 100\n",
    "print(experience_sentiment)"
   ]
  },
  {
   "cell_type": "markdown",
   "metadata": {},
   "source": [
    "The lengths of the conversations are inspected. It was seen that the conversations are longer when the customer sentiment is negative."
   ]
  },
  {
   "cell_type": "code",
   "execution_count": 53,
   "metadata": {},
   "outputs": [
    {
     "data": {
      "text/plain": [
       "customer_sentiment\n",
       "negative    2433.912409\n",
       "neutral     1973.374539\n",
       "positive    1732.588235\n",
       "Name: conversation_length, dtype: float64"
      ]
     },
     "execution_count": 53,
     "metadata": {},
     "output_type": "execute_result"
    }
   ],
   "source": [
    "df[\"conversation_length\"] = df[\"conversation\"].apply(len)\n",
    "df.groupby(\"customer_sentiment\")[\"conversation_length\"].mean()"
   ]
  },
  {
   "cell_type": "markdown",
   "metadata": {},
   "source": [
    "# Data preparation \n",
    "Customer service data is preprocessed and saved as .npy files. Here, only the replies given by the users excluding the last reply are taken and saved as X_train and X_val. Also, their corresponding labels (sentiments) are encoded into integer and they are saved as y_train and y_val."
   ]
  },
  {
   "cell_type": "code",
   "execution_count": 69,
   "metadata": {},
   "outputs": [
    {
     "name": "stdout",
     "output_type": "stream",
     "text": [
      "Train dataset size: 773\n",
      "Validation dataset size: 194\n",
      "Test dataset size: 30\n"
     ]
    }
   ],
   "source": [
    "!python data/customer_service/prepare.py"
   ]
  },
  {
   "cell_type": "code",
   "execution_count": 58,
   "metadata": {},
   "outputs": [
    {
     "data": {
      "text/plain": [
       "True"
      ]
     },
     "execution_count": 58,
     "metadata": {},
     "output_type": "execute_result"
    }
   ],
   "source": [
    "import wandb\n",
    "import os\n",
    "wandb.login(key=os.getenv(\"WANDB_API\"))\n",
    "\n"
   ]
  },
  {
   "cell_type": "code",
   "execution_count": 70,
   "metadata": {},
   "outputs": [
    {
     "name": "stdout",
     "output_type": "stream",
     "text": [
      "Overriding config with config/train_sentiment_analysis.py:"
     ]
    },
    {
     "name": "stderr",
     "output_type": "stream",
     "text": [
      "c:\\Users\\user\\Desktop\\DI725-Assignment-1\\train.py:213: FutureWarning: `torch.cuda.amp.GradScaler(args...)` is deprecated. Please use `torch.amp.GradScaler('cuda', args...)` instead."
     ]
    },
    {
     "name": "stdout",
     "output_type": "stream",
     "text": [
      "\n"
     ]
    },
    {
     "name": "stderr",
     "output_type": "stream",
     "text": [
      "\n"
     ]
    },
    {
     "name": "stdout",
     "output_type": "stream",
     "text": [
      "# train a miniature character-level shakespeare model"
     ]
    },
    {
     "name": "stderr",
     "output_type": "stream",
     "text": [
      "  scaler = torch.cuda.amp.GradScaler(enabled=(dtype == 'float16'))"
     ]
    },
    {
     "name": "stdout",
     "output_type": "stream",
     "text": [
      "\n"
     ]
    },
    {
     "name": "stderr",
     "output_type": "stream",
     "text": [
      "\n",
      "wandb: Currently logged in as: ahmetbekcan (DI725-2299436) to https://api.wandb.ai. Use `wandb login --relogin` to force relogin"
     ]
    },
    {
     "name": "stdout",
     "output_type": "stream",
     "text": [
      "# good for debugging and playing on macbooks and such"
     ]
    },
    {
     "name": "stderr",
     "output_type": "stream",
     "text": [
      "\n"
     ]
    },
    {
     "name": "stdout",
     "output_type": "stream",
     "text": [
      "\n",
      "\n"
     ]
    },
    {
     "name": "stderr",
     "output_type": "stream",
     "text": [
      "wandb: Tracking run with wandb version 0.19.8"
     ]
    },
    {
     "name": "stdout",
     "output_type": "stream",
     "text": [
      "out_dir = 'out-sentiment-analysis'"
     ]
    },
    {
     "name": "stderr",
     "output_type": "stream",
     "text": [
      "\n"
     ]
    },
    {
     "name": "stdout",
     "output_type": "stream",
     "text": [
      "\n"
     ]
    },
    {
     "name": "stderr",
     "output_type": "stream",
     "text": [
      "wandb: Run data is saved locally in c:\\Users\\user\\Desktop\\DI725-Assignment-1\\wandb\\run-20250403_130706-qjy4vvxc\n"
     ]
    },
    {
     "name": "stdout",
     "output_type": "stream",
     "text": [
      "eval_interval = 100  # decreased to prevent overfitting"
     ]
    },
    {
     "name": "stderr",
     "output_type": "stream",
     "text": [
      "wandb: Run `wandb offline` to turn off syncing."
     ]
    },
    {
     "name": "stdout",
     "output_type": "stream",
     "text": [
      "\n"
     ]
    },
    {
     "name": "stderr",
     "output_type": "stream",
     "text": [
      "\n"
     ]
    },
    {
     "name": "stdout",
     "output_type": "stream",
     "text": [
      "eval_iters = 200"
     ]
    },
    {
     "name": "stderr",
     "output_type": "stream",
     "text": [
      "wandb: Syncing run mini-gpt-train"
     ]
    },
    {
     "name": "stdout",
     "output_type": "stream",
     "text": [
      "\n"
     ]
    },
    {
     "name": "stderr",
     "output_type": "stream",
     "text": [
      "\n"
     ]
    },
    {
     "name": "stdout",
     "output_type": "stream",
     "text": [
      "log_interval = 50 \n"
     ]
    },
    {
     "name": "stderr",
     "output_type": "stream",
     "text": [
      "wandb:  View project at https://wandb.ai/DI725-2299436/sentiment-analysis"
     ]
    },
    {
     "name": "stdout",
     "output_type": "stream",
     "text": [
      "\n"
     ]
    },
    {
     "name": "stderr",
     "output_type": "stream",
     "text": [
      "\n",
      "wandb:  View run at https://wandb.ai/DI725-2299436/sentiment-analysis/runs/qjy4vvxc"
     ]
    },
    {
     "name": "stdout",
     "output_type": "stream",
     "text": [
      "always_save_checkpoint = False"
     ]
    },
    {
     "name": "stderr",
     "output_type": "stream",
     "text": [
      "\n"
     ]
    },
    {
     "name": "stdout",
     "output_type": "stream",
     "text": [
      "\n",
      "\n",
      "wandb_log = True\n",
      "wandb_project = 'sentiment-analysis'\n",
      "wandb_run_name = 'mini-gpt-train'\n",
      "\n",
      "dataset = 'customer_service'\n",
      "gradient_accumulation_steps = 1\n",
      "batch_size = 8\n",
      "block_size = 256\n",
      "\n",
      "sentiment_classifier = True # it will change the model implementation\n",
      "\n",
      "n_layer = 6\n",
      "n_head = 6\n",
      "n_embd = 384\n",
      "dropout = 0.2\n",
      "\n",
      "learning_rate = 1e-4 # decreased since dataset is small\n",
      "max_iters = 2000\n",
      "lr_decay_iters = 2000 \n",
      "min_lr = 1e-5  # learning_rate / 10 usually\n",
      "beta2 = 0.99 \n",
      "\n",
      "warmup_iters = 100\n",
      "\n",
      "# on macbook also add\n",
      "# device = 'cpu'  # run on cpu only\n",
      "# compile = False # do not torch compile the model\n",
      "\n",
      "Overriding: compile = False\n",
      "tokens per iteration will be: 2,048\n",
      "found vocab_size = 88 (inside data\\customer_service\\meta.pkl)\n",
      "Initializing a new model from scratch\n",
      "number of parameters: 10.66M\n",
      "num decayed parameter tensors: 27, with 10,750,080 parameters\n",
      "num non-decayed parameter tensors: 13, with 4,992 parameters\n",
      "using fused AdamW: True\n",
      "step 0: train loss 1.0655, val loss 1.0665\n",
      "iter 0: loss 1.0674, time 1896.82ms, mfu -100.00%\n",
      "iter 50: loss 1.0750, time 6.28ms, mfu 7.43%\n",
      "step 100: train loss 0.7738, val loss 0.7685\n",
      "saving checkpoint to out-sentiment-analysis\n",
      "iter 100: loss 0.7007, time 1575.37ms, mfu 6.69%\n",
      "iter 150: loss 0.7173, time 15.29ms, mfu 6.32%\n",
      "step 200: train loss 0.7465, val loss 0.7547\n",
      "saving checkpoint to out-sentiment-analysis\n",
      "iter 200: loss 0.6655, time 1574.46ms, mfu 5.69%\n",
      "iter 250: loss 0.6694, time 6.69ms, mfu 5.82%\n",
      "step 300: train loss 0.7454, val loss 0.7662\n",
      "iter 300: loss 0.9092, time 1452.11ms, mfu 5.24%\n",
      "iter 350: loss 0.6990, time 12.74ms, mfu 5.08%\n",
      "step 400: train loss 0.7268, val loss 0.7761\n",
      "iter 400: loss 0.4166, time 1478.59ms, mfu 4.58%\n",
      "iter 450: loss 0.6171, time 6.59ms, mfu 4.83%\n",
      "step 500: train loss 0.6687, val loss 0.7307\n",
      "saving checkpoint to out-sentiment-analysis\n",
      "iter 500: loss 1.2213, time 1563.07ms, mfu 4.35%\n",
      "iter 550: loss 0.5127, time 21.37ms, mfu 4.13%\n",
      "step 600: train loss 0.6366, val loss 0.7025\n",
      "saving checkpoint to out-sentiment-analysis\n",
      "iter 600: loss 0.5945, time 1580.88ms, mfu 3.72%\n",
      "iter 650: loss 0.5765, time 8.83ms, mfu 3.88%\n",
      "step 700: train loss 0.6445, val loss 0.7187\n",
      "iter 700: loss 0.4137, time 1467.24ms, mfu 3.49%\n",
      "iter 750: loss 0.5016, time 17.24ms, mfu 3.41%\n",
      "step 800: train loss 0.6342, val loss 0.7040\n",
      "iter 800: loss 0.3810, time 1487.44ms, mfu 3.08%\n",
      "iter 850: loss 0.4864, time 6.16ms, mfu 3.52%\n",
      "step 900: train loss 0.6033, val loss 0.7038\n",
      "iter 900: loss 0.5769, time 1461.55ms, mfu 3.18%\n",
      "iter 950: loss 0.6264, time 16.29ms, mfu 3.14%\n",
      "step 1000: train loss 0.6081, val loss 0.7590\n",
      "iter 1000: loss 0.4251, time 1499.54ms, mfu 2.83%\n",
      "iter 1050: loss 0.7173, time 7.26ms, mfu 3.19%\n",
      "step 1100: train loss 0.5812, val loss 0.7186\n",
      "iter 1100: loss 0.9512, time 1460.02ms, mfu 2.88%\n",
      "iter 1150: loss 0.8089, time 6.51ms, mfu 3.30%\n",
      "step 1200: train loss 0.5852, val loss 0.7895\n",
      "iter 1200: loss 0.3165, time 1472.54ms, mfu 2.98%\n",
      "iter 1250: loss 0.7204, time 17.72ms, mfu 2.94%\n",
      "step 1300: train loss 0.5851, val loss 0.7843\n",
      "iter 1300: loss 0.3748, time 1463.97ms, mfu 2.65%\n",
      "iter 1350: loss 0.6916, time 7.04ms, mfu 3.05%\n",
      "step 1400: train loss 0.5638, val loss 0.7291\n",
      "iter 1400: loss 0.3870, time 1481.99ms, mfu 2.75%\n",
      "iter 1450: loss 0.6315, time 7.55ms, mfu 3.09%\n",
      "step 1500: train loss 0.6385, val loss 0.8508\n",
      "iter 1500: loss 0.6183, time 1469.42ms, mfu 2.78%\n",
      "iter 1550: loss 0.2723, time 6.31ms, mfu 3.24%\n",
      "step 1600: train loss 0.5655, val loss 0.8089\n",
      "iter 1600: loss 1.0984, time 1468.72ms, mfu 2.92%\n",
      "iter 1650: loss 0.5932, time 23.59ms, mfu 2.83%\n",
      "step 1700: train loss 0.5221, val loss 0.7331\n",
      "iter 1700: loss 0.3093, time 1470.53ms, mfu 2.55%\n",
      "iter 1750: loss 0.8735, time 6.93ms, mfu 2.97%\n",
      "step 1800: train loss 0.4990, val loss 0.7387\n",
      "iter 1800: loss 0.5577, time 1474.92ms, mfu 2.67%\n",
      "iter 1850: loss 1.1001, time 18.46ms, mfu 2.66%\n",
      "step 1900: train loss 0.5044, val loss 0.7336\n",
      "iter 1900: loss 0.6136, time 1473.69ms, mfu 2.40%\n",
      "iter 1950: loss 0.4197, time 6.53ms, mfu 2.87%\n",
      "step 2000: train loss 0.5361, val loss 0.7604\n",
      "iter 2000: loss 1.0073, time 1456.06ms, mfu 2.59%\n"
     ]
    }
   ],
   "source": [
    "!python train.py config/train_sentiment_analysis.py --compile=False"
   ]
  },
  {
   "cell_type": "code",
   "execution_count": 97,
   "metadata": {},
   "outputs": [],
   "source": [
    "import torch\n",
    "from sklearn.metrics import confusion_matrix\n",
    "import numpy as np\n",
    "import seaborn as sns\n",
    "import matplotlib.pyplot as plt\n",
    "import pickle\n",
    "from model import GPT\n",
    "from torch.nn.utils.rnn import pad_sequence\n",
    "\n",
    "def evaluate_model(model: GPT, X_test_path, y_test_path, device='cpu'):\n",
    "    \"\"\"\n",
    "    Evaluate the model and print the success rate and confusion matrix.\n",
    "    \n",
    "    Args:\n",
    "    - model: The trained model (e.g., GPT).\n",
    "    - X_test_path: Path to the test input data (X_test binary pickle file).\n",
    "    - y_test_path: Path to the test labels (y_test binary pickle file).\n",
    "    - device: The device to run the model on ('cpu' or 'cuda').\n",
    "    - block_size: Maximum sequence length for padding.\n",
    "    \n",
    "    Returns:\n",
    "    - success_rate: The percentage of correct predictions.\n",
    "    \"\"\"\n",
    "    \n",
    "    # Load the test data (X_test and y_test) using pickle\n",
    "    with open(X_test_path, 'rb') as f:\n",
    "        X_test = pickle.load(f)\n",
    "    \n",
    "    with open(y_test_path, 'rb') as f:\n",
    "        y_test = pickle.load(f)\n",
    "    \n",
    "    # Ensure the model is in evaluation mode\n",
    "    model.eval()\n",
    "\n",
    "    # Pad sequences to ensure uniform length\n",
    "    padded_X_test = pad_sequence([torch.tensor(seq, dtype=torch.long) for seq in X_test], batch_first=True, padding_value=0)\n",
    "    block_size = model.config.block_size\n",
    "    # If the sequences are longer than block_size, truncate them\n",
    "    padded_X_test = padded_X_test[:, :block_size]\n",
    "    \n",
    "    # Move data to the correct device (CPU or GPU)\n",
    "    X_test_tensor = padded_X_test.to(device)  # Shape: (num_samples, seq_len)\n",
    "    y_test_tensor = torch.tensor(y_test, dtype=torch.long).to(device)  # Shape: (num_samples,)\n",
    "    \n",
    "    # Make predictions\n",
    "    with torch.no_grad():\n",
    "        logits, _ = model(X_test_tensor)  # Assuming output shape is (num_samples, seq_len, num_classes)\n",
    "        logits = logits[:, -1, :]  # Only take the logits for the last token (sentiment prediction)\n",
    "        \n",
    "        # Apply softmax to get probabilities and then get the predicted class\n",
    "        probs = torch.softmax(logits, dim=-1)\n",
    "        predictions = torch.argmax(probs, dim=-1)\n",
    "    \n",
    "    # Convert predictions to numpy arrays for further analysis\n",
    "    predictions_np = predictions.cpu().numpy()\n",
    "    \n",
    "    # Calculate success rate\n",
    "    correct_predictions = (predictions_np == y_test_tensor.cpu().numpy()).sum()\n",
    "    total_predictions = len(y_test)\n",
    "    success_rate = correct_predictions / total_predictions * 100\n",
    "    \n",
    "    print(f\"Success Rate: {success_rate:.2f}%\")\n",
    "    \n",
    "    # Compute confusion matrix\n",
    "    cm = confusion_matrix(y_test, predictions_np)\n",
    "    \n",
    "    # Plot confusion matrix using seaborn\n",
    "    plt.figure(figsize=(6, 5))\n",
    "    sns.heatmap(cm, annot=True, fmt='d', cmap='Blues', xticklabels=['Positive', 'Neutral', 'Negative'], yticklabels=['Positive', 'Neutral', 'Negative'])\n",
    "    plt.xlabel('Predicted Labels')\n",
    "    plt.ylabel('True Labels')\n",
    "    plt.title('Confusion Matrix')\n",
    "    plt.show()\n",
    "    \n",
    "    return success_rate, cm"
   ]
  },
  {
   "cell_type": "code",
   "execution_count": null,
   "metadata": {},
   "outputs": [],
   "source": [
    "import torch\n",
    "\n",
    "# Assuming the GPT class and its configurations have been defined as in your script\n",
    "from model import GPT, GPTConfig  # Replace with the correct import path\n",
    "\n",
    "def load_model_from_checkpoint(ckpt_path, device='cpu'):\n",
    "    # Load the checkpoint\n",
    "    checkpoint = torch.load(ckpt_path, map_location=device)\n",
    "    \n",
    "    # Get the saved model configuration\n",
    "    model_args = checkpoint['model_args']  # or checkpoint['config'], if you saved it under 'config'\n",
    "    \n",
    "    # Initialize the model with the saved configuration\n",
    "    config = GPTConfig(**model_args)  # Use the saved arguments to create the model configuration\n",
    "    model = GPT(config).to(device)  # Reinitialize the model\n",
    "    \n",
    "    # Load the model's state dictionary from the checkpoint\n",
    "    model.load_state_dict(checkpoint['model'])\n",
    "    \n",
    "    # Optionally load the optimizer state if you're planning to resume training\n",
    "    # optimizer.load_state_dict(checkpoint['optimizer'])  # Uncomment if needed\n",
    "    \n",
    "    # Set the model to evaluation mode (optional, for inference)\n",
    "    model.eval()\n",
    "    \n",
    "    print(f\"Model loaded from checkpoint: {ckpt_path}\")\n",
    "    \n",
    "    return model"
   ]
  },
  {
   "cell_type": "code",
   "execution_count": 98,
   "metadata": {},
   "outputs": [
    {
     "name": "stdout",
     "output_type": "stream",
     "text": [
      "number of parameters: 10.66M\n",
      "Model loaded from checkpoint: out-sentiment-analysis/ckpt.pt\n",
      "Success Rate: 33.33%\n"
     ]
    },
    {
     "data": {
      "image/png": "[encoded data removed]",
      "text/plain": [
       "<Figure size 600x500 with 2 Axes>"
      ]
     },
     "metadata": {},
     "output_type": "display_data"
    },
    {
     "data": {
      "text/plain": [
       "(np.float64(33.33333333333333),\n",
       " array([[ 0,  0, 10],\n",
       "        [ 0,  0, 10],\n",
       "        [ 0,  0, 10]]))"
      ]
     },
     "execution_count": 98,
     "metadata": {},
     "output_type": "execute_result"
    }
   ],
   "source": [
    "device = \"cuda\" if torch.cuda.is_available else \"cpu\"\n",
    "model = load_model_from_checkpoint('out-sentiment-analysis/ckpt.pt', device=device)\n",
    "evaluate_model(model, \"data/customer_service/X_test.bin\",\"data/customer_service/y_test.bin\", device=device)"
   ]
  },
  {
   "cell_type": "code",
   "execution_count": null,
   "metadata": {},
   "outputs": [],
   "source": []
  }
 ],
 "metadata": {
  "kernelspec": {
   "display_name": "Python 3",
   "language": "python",
   "name": "python3"
  },
  "language_info": {
   "codemirror_mode": {
    "name": "ipython",
    "version": 3
   },
   "file_extension": ".py",
   "mimetype": "text/x-python",
   "name": "python",
   "nbconvert_exporter": "python",
   "pygments_lexer": "ipython3",
   "version": "3.13.2"
  }
 },
 "nbformat": 4,
 "nbformat_minor": 2
}
