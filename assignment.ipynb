{
 "cells": [
  {
   "cell_type": "markdown",
   "metadata": {},
   "source": []
  },
  {
   "cell_type": "code",
   "execution_count": 2,
   "metadata": {},
   "outputs": [
    {
     "name": "stdout",
     "output_type": "stream",
     "text": [
      "Requirement already satisfied: torch in c:\\users\\user\\anaconda3\\lib\\site-packages (from -r requirements.txt (line 1)) (2.2.2)\n",
      "Requirement already satisfied: numpy in c:\\users\\user\\anaconda3\\lib\\site-packages (from -r requirements.txt (line 2)) (1.26.4)\n",
      "Requirement already satisfied: transformers in c:\\users\\user\\anaconda3\\lib\\site-packages (from -r requirements.txt (line 3)) (4.45.2)\n",
      "Requirement already satisfied: datasets in c:\\users\\user\\anaconda3\\lib\\site-packages (from -r requirements.txt (line 4)) (2.12.0)\n",
      "Collecting tiktoken (from -r requirements.txt (line 5))\n",
      "  Obtaining dependency information for tiktoken from https://files.pythonhosted.org/packages/6f/07/c67ad1724b8e14e2b4c8cca04b15da158733ac60136879131db05dda7c30/tiktoken-0.9.0-cp311-cp311-win_amd64.whl.metadata\n",
      "  Downloading tiktoken-0.9.0-cp311-cp311-win_amd64.whl.metadata (6.8 kB)\n",
      "Requirement already satisfied: wandb in c:\\users\\user\\anaconda3\\lib\\site-packages (from -r requirements.txt (line 6)) (0.18.7)\n",
      "Requirement already satisfied: tqdm in c:\\users\\user\\anaconda3\\lib\\site-packages (from -r requirements.txt (line 7)) (4.66.5)\n",
      "Requirement already satisfied: pandas in c:\\users\\user\\anaconda3\\lib\\site-packages (from -r requirements.txt (line 8)) (2.2.3)\n",
      "Requirement already satisfied: seaborn in c:\\users\\user\\anaconda3\\lib\\site-packages (from -r requirements.txt (line 9)) (0.13.2)\n",
      "Requirement already satisfied: matplotlib in c:\\users\\user\\anaconda3\\lib\\site-packages (from -r requirements.txt (line 10)) (3.10.0)\n",
      "Requirement already satisfied: scikit-learn in c:\\users\\user\\anaconda3\\lib\\site-packages (from -r requirements.txt (line 11)) (1.5.1)\n",
      "Requirement already satisfied: filelock in c:\\users\\user\\anaconda3\\lib\\site-packages (from torch->-r requirements.txt (line 1)) (3.13.1)\n",
      "Requirement already satisfied: typing-extensions>=4.8.0 in c:\\users\\user\\anaconda3\\lib\\site-packages (from torch->-r requirements.txt (line 1)) (4.12.2)\n",
      "Requirement already satisfied: sympy in c:\\users\\user\\anaconda3\\lib\\site-packages (from torch->-r requirements.txt (line 1)) (1.13.3)\n",
      "Requirement already satisfied: networkx in c:\\users\\user\\anaconda3\\lib\\site-packages (from torch->-r requirements.txt (line 1)) (3.4.2)\n",
      "Requirement already satisfied: jinja2 in c:\\users\\user\\anaconda3\\lib\\site-packages (from torch->-r requirements.txt (line 1)) (3.1.4)\n",
      "Requirement already satisfied: fsspec in c:\\users\\user\\anaconda3\\lib\\site-packages (from torch->-r requirements.txt (line 1)) (2024.10.0)\n",
      "Requirement already satisfied: huggingface-hub<1.0,>=0.23.2 in c:\\users\\user\\anaconda3\\lib\\site-packages (from transformers->-r requirements.txt (line 3)) (0.24.6)\n",
      "Requirement already satisfied: packaging>=20.0 in c:\\users\\user\\anaconda3\\lib\\site-packages (from transformers->-r requirements.txt (line 3)) (24.2)\n",
      "Requirement already satisfied: pyyaml>=5.1 in c:\\users\\user\\anaconda3\\lib\\site-packages (from transformers->-r requirements.txt (line 3)) (6.0.2)\n",
      "Requirement already satisfied: regex!=2019.12.17 in c:\\users\\user\\anaconda3\\lib\\site-packages (from transformers->-r requirements.txt (line 3)) (2024.11.6)\n",
      "Requirement already satisfied: requests in c:\\users\\user\\anaconda3\\lib\\site-packages (from transformers->-r requirements.txt (line 3)) (2.32.3)\n",
      "Requirement already satisfied: tokenizers<0.21,>=0.20 in c:\\users\\user\\anaconda3\\lib\\site-packages (from transformers->-r requirements.txt (line 3)) (0.20.1)\n",
      "Requirement already satisfied: safetensors>=0.4.1 in c:\\users\\user\\anaconda3\\lib\\site-packages (from transformers->-r requirements.txt (line 3)) (0.4.5)\n",
      "Requirement already satisfied: pyarrow>=8.0.0 in c:\\users\\user\\anaconda3\\lib\\site-packages (from datasets->-r requirements.txt (line 4)) (17.0.0)\n",
      "Requirement already satisfied: dill<0.3.7,>=0.3.0 in c:\\users\\user\\anaconda3\\lib\\site-packages (from datasets->-r requirements.txt (line 4)) (0.3.6)\n",
      "Requirement already satisfied: xxhash in c:\\users\\user\\anaconda3\\lib\\site-packages (from datasets->-r requirements.txt (line 4)) (3.5.0)\n",
      "Requirement already satisfied: multiprocess in c:\\users\\user\\anaconda3\\lib\\site-packages (from datasets->-r requirements.txt (line 4)) (0.70.14)\n",
      "Requirement already satisfied: aiohttp in c:\\users\\user\\anaconda3\\lib\\site-packages (from datasets->-r requirements.txt (line 4)) (3.11.10)\n",
      "Requirement already satisfied: responses<0.19 in c:\\users\\user\\anaconda3\\lib\\site-packages (from datasets->-r requirements.txt (line 4)) (0.13.3)\n",
      "Requirement already satisfied: click!=8.0.0,>=7.1 in c:\\users\\user\\anaconda3\\lib\\site-packages (from wandb->-r requirements.txt (line 6)) (8.1.7)\n",
      "Requirement already satisfied: docker-pycreds>=0.4.0 in c:\\users\\user\\anaconda3\\lib\\site-packages (from wandb->-r requirements.txt (line 6)) (0.4.0)\n",
      "Requirement already satisfied: gitpython!=3.1.29,>=1.0.0 in c:\\users\\user\\anaconda3\\lib\\site-packages (from wandb->-r requirements.txt (line 6)) (3.1.43)\n",
      "Requirement already satisfied: platformdirs in c:\\users\\user\\anaconda3\\lib\\site-packages (from wandb->-r requirements.txt (line 6)) (3.10.0)\n",
      "Requirement already satisfied: protobuf!=4.21.0,!=5.28.0,<6,>=3.19.0 in c:\\users\\user\\anaconda3\\lib\\site-packages (from wandb->-r requirements.txt (line 6)) (5.28.3)\n",
      "Requirement already satisfied: psutil>=5.0.0 in c:\\users\\user\\anaconda3\\lib\\site-packages (from wandb->-r requirements.txt (line 6)) (5.9.0)\n",
      "Requirement already satisfied: sentry-sdk>=2.0.0 in c:\\users\\user\\anaconda3\\lib\\site-packages (from wandb->-r requirements.txt (line 6)) (2.19.0)\n",
      "Requirement already satisfied: setproctitle in c:\\users\\user\\anaconda3\\lib\\site-packages (from wandb->-r requirements.txt (line 6)) (1.3.4)\n",
      "Requirement already satisfied: setuptools in c:\\users\\user\\anaconda3\\lib\\site-packages (from wandb->-r requirements.txt (line 6)) (68.0.0)\n",
      "Requirement already satisfied: colorama in c:\\users\\user\\anaconda3\\lib\\site-packages (from tqdm->-r requirements.txt (line 7)) (0.4.6)\n",
      "Requirement already satisfied: python-dateutil>=2.8.2 in c:\\users\\user\\anaconda3\\lib\\site-packages (from pandas->-r requirements.txt (line 8)) (2.9.0.post0)\n",
      "Requirement already satisfied: pytz>=2020.1 in c:\\users\\user\\anaconda3\\lib\\site-packages (from pandas->-r requirements.txt (line 8)) (2024.1)\n",
      "Requirement already satisfied: tzdata>=2022.7 in c:\\users\\user\\anaconda3\\lib\\site-packages (from pandas->-r requirements.txt (line 8)) (2023.3)\n",
      "Requirement already satisfied: contourpy>=1.0.1 in c:\\users\\user\\anaconda3\\lib\\site-packages (from matplotlib->-r requirements.txt (line 10)) (1.3.1)\n",
      "Requirement already satisfied: cycler>=0.10 in c:\\users\\user\\anaconda3\\lib\\site-packages (from matplotlib->-r requirements.txt (line 10)) (0.11.0)\n",
      "Requirement already satisfied: fonttools>=4.22.0 in c:\\users\\user\\anaconda3\\lib\\site-packages (from matplotlib->-r requirements.txt (line 10)) (4.55.3)\n",
      "Requirement already satisfied: kiwisolver>=1.3.1 in c:\\users\\user\\anaconda3\\lib\\site-packages (from matplotlib->-r requirements.txt (line 10)) (1.4.8)\n",
      "Requirement already satisfied: pillow>=8 in c:\\users\\user\\anaconda3\\lib\\site-packages (from matplotlib->-r requirements.txt (line 10)) (10.4.0)\n",
      "Requirement already satisfied: pyparsing>=2.3.1 in c:\\users\\user\\anaconda3\\lib\\site-packages (from matplotlib->-r requirements.txt (line 10)) (3.2.0)\n",
      "Requirement already satisfied: scipy>=1.6.0 in c:\\users\\user\\anaconda3\\lib\\site-packages (from scikit-learn->-r requirements.txt (line 11)) (1.13.1)\n",
      "Requirement already satisfied: joblib>=1.2.0 in c:\\users\\user\\anaconda3\\lib\\site-packages (from scikit-learn->-r requirements.txt (line 11)) (1.4.2)\n",
      "Requirement already satisfied: threadpoolctl>=3.1.0 in c:\\users\\user\\anaconda3\\lib\\site-packages (from scikit-learn->-r requirements.txt (line 11)) (3.5.0)\n",
      "Requirement already satisfied: six>=1.4.0 in c:\\users\\user\\anaconda3\\lib\\site-packages (from docker-pycreds>=0.4.0->wandb->-r requirements.txt (line 6)) (1.16.0)\n",
      "Requirement already satisfied: aiohappyeyeballs>=2.3.0 in c:\\users\\user\\anaconda3\\lib\\site-packages (from aiohttp->datasets->-r requirements.txt (line 4)) (2.4.4)\n",
      "Requirement already satisfied: aiosignal>=1.1.2 in c:\\users\\user\\anaconda3\\lib\\site-packages (from aiohttp->datasets->-r requirements.txt (line 4)) (1.2.0)\n",
      "Requirement already satisfied: attrs>=17.3.0 in c:\\users\\user\\anaconda3\\lib\\site-packages (from aiohttp->datasets->-r requirements.txt (line 4)) (24.3.0)\n",
      "Requirement already satisfied: frozenlist>=1.1.1 in c:\\users\\user\\anaconda3\\lib\\site-packages (from aiohttp->datasets->-r requirements.txt (line 4)) (1.5.0)\n",
      "Requirement already satisfied: multidict<7.0,>=4.5 in c:\\users\\user\\anaconda3\\lib\\site-packages (from aiohttp->datasets->-r requirements.txt (line 4)) (6.1.0)\n",
      "Requirement already satisfied: propcache>=0.2.0 in c:\\users\\user\\anaconda3\\lib\\site-packages (from aiohttp->datasets->-r requirements.txt (line 4)) (0.2.0)\n",
      "Requirement already satisfied: yarl<2.0,>=1.17.0 in c:\\users\\user\\anaconda3\\lib\\site-packages (from aiohttp->datasets->-r requirements.txt (line 4)) (1.18.0)\n",
      "Requirement already satisfied: gitdb<5,>=4.0.1 in c:\\users\\user\\anaconda3\\lib\\site-packages (from gitpython!=3.1.29,>=1.0.0->wandb->-r requirements.txt (line 6)) (4.0.11)\n",
      "Requirement already satisfied: charset-normalizer<4,>=2 in c:\\users\\user\\anaconda3\\lib\\site-packages (from requests->transformers->-r requirements.txt (line 3)) (3.3.2)\n",
      "Requirement already satisfied: idna<4,>=2.5 in c:\\users\\user\\anaconda3\\lib\\site-packages (from requests->transformers->-r requirements.txt (line 3)) (3.7)\n",
      "Requirement already satisfied: urllib3<3,>=1.21.1 in c:\\users\\user\\anaconda3\\lib\\site-packages (from requests->transformers->-r requirements.txt (line 3)) (2.3.0)\n",
      "Requirement already satisfied: certifi>=2017.4.17 in c:\\users\\user\\anaconda3\\lib\\site-packages (from requests->transformers->-r requirements.txt (line 3)) (2024.12.14)\n",
      "Requirement already satisfied: MarkupSafe>=2.0 in c:\\users\\user\\anaconda3\\lib\\site-packages (from jinja2->torch->-r requirements.txt (line 1)) (2.1.3)\n",
      "Requirement already satisfied: mpmath<1.4,>=1.1.0 in c:\\users\\user\\anaconda3\\lib\\site-packages (from sympy->torch->-r requirements.txt (line 1)) (1.3.0)\n",
      "Requirement already satisfied: smmap<6,>=3.0.1 in c:\\users\\user\\anaconda3\\lib\\site-packages (from gitdb<5,>=4.0.1->gitpython!=3.1.29,>=1.0.0->wandb->-r requirements.txt (line 6)) (5.0.1)\n",
      "Downloading tiktoken-0.9.0-cp311-cp311-win_amd64.whl (893 kB)\n",
      "   ---------------------------------------- 0.0/893.9 kB ? eta -:--:--\n",
      "   ---------------------------------------- 10.2/893.9 kB ? eta -:--:--\n",
      "   - ------------------------------------- 30.7/893.9 kB 435.7 kB/s eta 0:00:02\n",
      "   ---- ---------------------------------- 92.2/893.9 kB 871.5 kB/s eta 0:00:01\n",
      "   --------- ------------------------------ 204.8/893.9 kB 1.4 MB/s eta 0:00:01\n",
      "   ------------- -------------------------- 307.2/893.9 kB 1.6 MB/s eta 0:00:01\n",
      "   --------------------- ------------------ 491.5/893.9 kB 2.4 MB/s eta 0:00:01\n",
      "   -------------------------------------- - 860.2/893.9 kB 3.4 MB/s eta 0:00:01\n",
      "   ---------------------------------------- 893.9/893.9 kB 3.3 MB/s eta 0:00:00\n",
      "Installing collected packages: tiktoken\n",
      "Successfully installed tiktoken-0.9.0\n",
      "Note: you may need to restart the kernel to use updated packages.\n"
     ]
    }
   ],
   "source": [
    "%pip install -r \"requirements.txt\""
   ]
  },
  {
   "cell_type": "code",
   "execution_count": 26,
   "metadata": {},
   "outputs": [],
   "source": [
    "import pandas as pd\n",
    "import matplotlib.pyplot as plt\n",
    "import seaborn as sns\n",
    "import numpy as np"
   ]
  },
  {
   "cell_type": "code",
   "execution_count": 5,
   "metadata": {},
   "outputs": [],
   "source": [
    "df = pd.read_csv(\"data/customer_service/train.csv\")"
   ]
  },
  {
   "cell_type": "markdown",
   "metadata": {},
   "source": [
    "# Data Exploration \n",
    "Checked the overall information about the dataset"
   ]
  },
  {
   "cell_type": "code",
   "execution_count": 48,
   "metadata": {},
   "outputs": [
    {
     "name": "stdout",
     "output_type": "stream",
     "text": [
      "<class 'pandas.core.frame.DataFrame'>\n",
      "RangeIndex: 970 entries, 0 to 969\n",
      "Data columns (total 12 columns):\n",
      " #   Column                       Non-Null Count  Dtype \n",
      "---  ------                       --------------  ----- \n",
      " 0   issue_area                   970 non-null    object\n",
      " 1   issue_category               970 non-null    object\n",
      " 2   issue_sub_category           970 non-null    object\n",
      " 3   issue_category_sub_category  970 non-null    object\n",
      " 4   customer_sentiment           970 non-null    object\n",
      " 5   product_category             970 non-null    object\n",
      " 6   product_sub_category         970 non-null    object\n",
      " 7   issue_complexity             970 non-null    object\n",
      " 8   agent_experience_level       970 non-null    object\n",
      " 9   agent_experience_level_desc  970 non-null    object\n",
      " 10  conversation                 970 non-null    object\n",
      " 11  conversation_length          970 non-null    int64 \n",
      "dtypes: int64(1), object(11)\n",
      "memory usage: 91.1+ KB\n"
     ]
    },
    {
     "data": {
      "text/html": [
       "<div>\n",
       "<style scoped>\n",
       "    .dataframe tbody tr th:only-of-type {\n",
       "        vertical-align: middle;\n",
       "    }\n",
       "\n",
       "    .dataframe tbody tr th {\n",
       "        vertical-align: top;\n",
       "    }\n",
       "\n",
       "    .dataframe thead th {\n",
       "        text-align: right;\n",
       "    }\n",
       "</style>\n",
       "<table border=\"1\" class=\"dataframe\">\n",
       "  <thead>\n",
       "    <tr style=\"text-align: right;\">\n",
       "      <th></th>\n",
       "      <th>issue_area</th>\n",
       "      <th>issue_category</th>\n",
       "      <th>issue_sub_category</th>\n",
       "      <th>issue_category_sub_category</th>\n",
       "      <th>customer_sentiment</th>\n",
       "      <th>product_category</th>\n",
       "      <th>product_sub_category</th>\n",
       "      <th>issue_complexity</th>\n",
       "      <th>agent_experience_level</th>\n",
       "      <th>agent_experience_level_desc</th>\n",
       "      <th>conversation</th>\n",
       "      <th>conversation_length</th>\n",
       "    </tr>\n",
       "  </thead>\n",
       "  <tbody>\n",
       "    <tr>\n",
       "      <th>count</th>\n",
       "      <td>970</td>\n",
       "      <td>970</td>\n",
       "      <td>970</td>\n",
       "      <td>970</td>\n",
       "      <td>970</td>\n",
       "      <td>970</td>\n",
       "      <td>970</td>\n",
       "      <td>970</td>\n",
       "      <td>970</td>\n",
       "      <td>970</td>\n",
       "      <td>970</td>\n",
       "      <td>970.000000</td>\n",
       "    </tr>\n",
       "    <tr>\n",
       "      <th>unique</th>\n",
       "      <td>6</td>\n",
       "      <td>40</td>\n",
       "      <td>109</td>\n",
       "      <td>109</td>\n",
       "      <td>3</td>\n",
       "      <td>3</td>\n",
       "      <td>50</td>\n",
       "      <td>3</td>\n",
       "      <td>3</td>\n",
       "      <td>3</td>\n",
       "      <td>968</td>\n",
       "      <td>NaN</td>\n",
       "    </tr>\n",
       "    <tr>\n",
       "      <th>top</th>\n",
       "      <td>Cancellations and returns</td>\n",
       "      <td>Return and Exchange</td>\n",
       "      <td>Verification requirement for mobile number or ...</td>\n",
       "      <td>Mobile Number and Email Verification -&gt; Verifi...</td>\n",
       "      <td>neutral</td>\n",
       "      <td>Appliances</td>\n",
       "      <td>Bp Monitor</td>\n",
       "      <td>less</td>\n",
       "      <td>junior</td>\n",
       "      <td>handles customer inquiries independently, poss...</td>\n",
       "      <td>Agent: You're welcome, Jane. Have a great day!</td>\n",
       "      <td>NaN</td>\n",
       "    </tr>\n",
       "    <tr>\n",
       "      <th>freq</th>\n",
       "      <td>277</td>\n",
       "      <td>92</td>\n",
       "      <td>17</td>\n",
       "      <td>17</td>\n",
       "      <td>542</td>\n",
       "      <td>454</td>\n",
       "      <td>26</td>\n",
       "      <td>472</td>\n",
       "      <td>490</td>\n",
       "      <td>490</td>\n",
       "      <td>3</td>\n",
       "      <td>NaN</td>\n",
       "    </tr>\n",
       "    <tr>\n",
       "      <th>mean</th>\n",
       "      <td>NaN</td>\n",
       "      <td>NaN</td>\n",
       "      <td>NaN</td>\n",
       "      <td>NaN</td>\n",
       "      <td>NaN</td>\n",
       "      <td>NaN</td>\n",
       "      <td>NaN</td>\n",
       "      <td>NaN</td>\n",
       "      <td>NaN</td>\n",
       "      <td>NaN</td>\n",
       "      <td>NaN</td>\n",
       "      <td>2164.289691</td>\n",
       "    </tr>\n",
       "    <tr>\n",
       "      <th>std</th>\n",
       "      <td>NaN</td>\n",
       "      <td>NaN</td>\n",
       "      <td>NaN</td>\n",
       "      <td>NaN</td>\n",
       "      <td>NaN</td>\n",
       "      <td>NaN</td>\n",
       "      <td>NaN</td>\n",
       "      <td>NaN</td>\n",
       "      <td>NaN</td>\n",
       "      <td>NaN</td>\n",
       "      <td>NaN</td>\n",
       "      <td>572.653613</td>\n",
       "    </tr>\n",
       "    <tr>\n",
       "      <th>min</th>\n",
       "      <td>NaN</td>\n",
       "      <td>NaN</td>\n",
       "      <td>NaN</td>\n",
       "      <td>NaN</td>\n",
       "      <td>NaN</td>\n",
       "      <td>NaN</td>\n",
       "      <td>NaN</td>\n",
       "      <td>NaN</td>\n",
       "      <td>NaN</td>\n",
       "      <td>NaN</td>\n",
       "      <td>NaN</td>\n",
       "      <td>46.000000</td>\n",
       "    </tr>\n",
       "    <tr>\n",
       "      <th>25%</th>\n",
       "      <td>NaN</td>\n",
       "      <td>NaN</td>\n",
       "      <td>NaN</td>\n",
       "      <td>NaN</td>\n",
       "      <td>NaN</td>\n",
       "      <td>NaN</td>\n",
       "      <td>NaN</td>\n",
       "      <td>NaN</td>\n",
       "      <td>NaN</td>\n",
       "      <td>NaN</td>\n",
       "      <td>NaN</td>\n",
       "      <td>1791.250000</td>\n",
       "    </tr>\n",
       "    <tr>\n",
       "      <th>50%</th>\n",
       "      <td>NaN</td>\n",
       "      <td>NaN</td>\n",
       "      <td>NaN</td>\n",
       "      <td>NaN</td>\n",
       "      <td>NaN</td>\n",
       "      <td>NaN</td>\n",
       "      <td>NaN</td>\n",
       "      <td>NaN</td>\n",
       "      <td>NaN</td>\n",
       "      <td>NaN</td>\n",
       "      <td>NaN</td>\n",
       "      <td>2091.000000</td>\n",
       "    </tr>\n",
       "    <tr>\n",
       "      <th>75%</th>\n",
       "      <td>NaN</td>\n",
       "      <td>NaN</td>\n",
       "      <td>NaN</td>\n",
       "      <td>NaN</td>\n",
       "      <td>NaN</td>\n",
       "      <td>NaN</td>\n",
       "      <td>NaN</td>\n",
       "      <td>NaN</td>\n",
       "      <td>NaN</td>\n",
       "      <td>NaN</td>\n",
       "      <td>NaN</td>\n",
       "      <td>2471.750000</td>\n",
       "    </tr>\n",
       "    <tr>\n",
       "      <th>max</th>\n",
       "      <td>NaN</td>\n",
       "      <td>NaN</td>\n",
       "      <td>NaN</td>\n",
       "      <td>NaN</td>\n",
       "      <td>NaN</td>\n",
       "      <td>NaN</td>\n",
       "      <td>NaN</td>\n",
       "      <td>NaN</td>\n",
       "      <td>NaN</td>\n",
       "      <td>NaN</td>\n",
       "      <td>NaN</td>\n",
       "      <td>5804.000000</td>\n",
       "    </tr>\n",
       "  </tbody>\n",
       "</table>\n",
       "</div>"
      ],
      "text/plain": [
       "                       issue_area       issue_category  \\\n",
       "count                         970                  970   \n",
       "unique                          6                   40   \n",
       "top     Cancellations and returns  Return and Exchange   \n",
       "freq                          277                   92   \n",
       "mean                          NaN                  NaN   \n",
       "std                           NaN                  NaN   \n",
       "min                           NaN                  NaN   \n",
       "25%                           NaN                  NaN   \n",
       "50%                           NaN                  NaN   \n",
       "75%                           NaN                  NaN   \n",
       "max                           NaN                  NaN   \n",
       "\n",
       "                                       issue_sub_category  \\\n",
       "count                                                 970   \n",
       "unique                                                109   \n",
       "top     Verification requirement for mobile number or ...   \n",
       "freq                                                   17   \n",
       "mean                                                  NaN   \n",
       "std                                                   NaN   \n",
       "min                                                   NaN   \n",
       "25%                                                   NaN   \n",
       "50%                                                   NaN   \n",
       "75%                                                   NaN   \n",
       "max                                                   NaN   \n",
       "\n",
       "                              issue_category_sub_category customer_sentiment  \\\n",
       "count                                                 970                970   \n",
       "unique                                                109                  3   \n",
       "top     Mobile Number and Email Verification -> Verifi...            neutral   \n",
       "freq                                                   17                542   \n",
       "mean                                                  NaN                NaN   \n",
       "std                                                   NaN                NaN   \n",
       "min                                                   NaN                NaN   \n",
       "25%                                                   NaN                NaN   \n",
       "50%                                                   NaN                NaN   \n",
       "75%                                                   NaN                NaN   \n",
       "max                                                   NaN                NaN   \n",
       "\n",
       "       product_category product_sub_category issue_complexity  \\\n",
       "count               970                  970              970   \n",
       "unique                3                   50                3   \n",
       "top          Appliances           Bp Monitor             less   \n",
       "freq                454                   26              472   \n",
       "mean                NaN                  NaN              NaN   \n",
       "std                 NaN                  NaN              NaN   \n",
       "min                 NaN                  NaN              NaN   \n",
       "25%                 NaN                  NaN              NaN   \n",
       "50%                 NaN                  NaN              NaN   \n",
       "75%                 NaN                  NaN              NaN   \n",
       "max                 NaN                  NaN              NaN   \n",
       "\n",
       "       agent_experience_level  \\\n",
       "count                     970   \n",
       "unique                      3   \n",
       "top                    junior   \n",
       "freq                      490   \n",
       "mean                      NaN   \n",
       "std                       NaN   \n",
       "min                       NaN   \n",
       "25%                       NaN   \n",
       "50%                       NaN   \n",
       "75%                       NaN   \n",
       "max                       NaN   \n",
       "\n",
       "                              agent_experience_level_desc  \\\n",
       "count                                                 970   \n",
       "unique                                                  3   \n",
       "top     handles customer inquiries independently, poss...   \n",
       "freq                                                  490   \n",
       "mean                                                  NaN   \n",
       "std                                                   NaN   \n",
       "min                                                   NaN   \n",
       "25%                                                   NaN   \n",
       "50%                                                   NaN   \n",
       "75%                                                   NaN   \n",
       "max                                                   NaN   \n",
       "\n",
       "                                          conversation  conversation_length  \n",
       "count                                              970           970.000000  \n",
       "unique                                             968                  NaN  \n",
       "top     Agent: You're welcome, Jane. Have a great day!                  NaN  \n",
       "freq                                                 3                  NaN  \n",
       "mean                                               NaN          2164.289691  \n",
       "std                                                NaN           572.653613  \n",
       "min                                                NaN            46.000000  \n",
       "25%                                                NaN          1791.250000  \n",
       "50%                                                NaN          2091.000000  \n",
       "75%                                                NaN          2471.750000  \n",
       "max                                                NaN          5804.000000  "
      ]
     },
     "execution_count": 48,
     "metadata": {},
     "output_type": "execute_result"
    }
   ],
   "source": [
    "df.info()\n",
    "df.describe(include=\"all\")"
   ]
  },
  {
   "cell_type": "markdown",
   "metadata": {},
   "source": [
    "Checked the percantages of the different sentiments. It is observed that positive sentiments are very rare."
   ]
  },
  {
   "cell_type": "code",
   "execution_count": 49,
   "metadata": {},
   "outputs": [
    {
     "data": {
      "text/plain": [
       "customer_sentiment\n",
       "neutral     55.876289\n",
       "negative    42.371134\n",
       "positive     1.752577\n",
       "Name: proportion, dtype: float64"
      ]
     },
     "execution_count": 49,
     "metadata": {},
     "output_type": "execute_result"
    }
   ],
   "source": [
    "df[\"customer_sentiment\"].value_counts(normalize=True) * 100"
   ]
  },
  {
   "cell_type": "markdown",
   "metadata": {},
   "source": [
    "Checked the issue complexity vs customer sentiment. It was seen that negative sentiment increases as the issue complexity increases."
   ]
  },
  {
   "cell_type": "code",
   "execution_count": 50,
   "metadata": {},
   "outputs": [
    {
     "data": {
      "text/html": [
       "<div>\n",
       "<style scoped>\n",
       "    .dataframe tbody tr th:only-of-type {\n",
       "        vertical-align: middle;\n",
       "    }\n",
       "\n",
       "    .dataframe tbody tr th {\n",
       "        vertical-align: top;\n",
       "    }\n",
       "\n",
       "    .dataframe thead th {\n",
       "        text-align: right;\n",
       "    }\n",
       "</style>\n",
       "<table border=\"1\" class=\"dataframe\">\n",
       "  <thead>\n",
       "    <tr style=\"text-align: right;\">\n",
       "      <th>customer_sentiment</th>\n",
       "      <th>negative</th>\n",
       "      <th>neutral</th>\n",
       "      <th>positive</th>\n",
       "    </tr>\n",
       "    <tr>\n",
       "      <th>issue_complexity</th>\n",
       "      <th></th>\n",
       "      <th></th>\n",
       "      <th></th>\n",
       "    </tr>\n",
       "  </thead>\n",
       "  <tbody>\n",
       "    <tr>\n",
       "      <th>high</th>\n",
       "      <td>39</td>\n",
       "      <td>40</td>\n",
       "      <td>3</td>\n",
       "    </tr>\n",
       "    <tr>\n",
       "      <th>less</th>\n",
       "      <td>197</td>\n",
       "      <td>268</td>\n",
       "      <td>7</td>\n",
       "    </tr>\n",
       "    <tr>\n",
       "      <th>medium</th>\n",
       "      <td>175</td>\n",
       "      <td>234</td>\n",
       "      <td>7</td>\n",
       "    </tr>\n",
       "  </tbody>\n",
       "</table>\n",
       "</div>"
      ],
      "text/plain": [
       "customer_sentiment  negative  neutral  positive\n",
       "issue_complexity                               \n",
       "high                      39       40         3\n",
       "less                     197      268         7\n",
       "medium                   175      234         7"
      ]
     },
     "execution_count": 50,
     "metadata": {},
     "output_type": "execute_result"
    }
   ],
   "source": [
    "pd.crosstab(df[\"issue_complexity\"], df[\"customer_sentiment\"])"
   ]
  },
  {
   "cell_type": "markdown",
   "metadata": {},
   "source": [
    "Similarly, agent experience level vs customer sentiment is examined. Suprisingly, the experience level doesn't have a big affect on the customer sentiment."
   ]
  },
  {
   "cell_type": "code",
   "execution_count": 51,
   "metadata": {},
   "outputs": [
    {
     "data": {
      "text/html": [
       "<div>\n",
       "<style scoped>\n",
       "    .dataframe tbody tr th:only-of-type {\n",
       "        vertical-align: middle;\n",
       "    }\n",
       "\n",
       "    .dataframe tbody tr th {\n",
       "        vertical-align: top;\n",
       "    }\n",
       "\n",
       "    .dataframe thead th {\n",
       "        text-align: right;\n",
       "    }\n",
       "</style>\n",
       "<table border=\"1\" class=\"dataframe\">\n",
       "  <thead>\n",
       "    <tr style=\"text-align: right;\">\n",
       "      <th>customer_sentiment</th>\n",
       "      <th>negative</th>\n",
       "      <th>neutral</th>\n",
       "      <th>positive</th>\n",
       "    </tr>\n",
       "    <tr>\n",
       "      <th>agent_experience_level</th>\n",
       "      <th></th>\n",
       "      <th></th>\n",
       "      <th></th>\n",
       "    </tr>\n",
       "  </thead>\n",
       "  <tbody>\n",
       "    <tr>\n",
       "      <th>experienced</th>\n",
       "      <td>147</td>\n",
       "      <td>188</td>\n",
       "      <td>4</td>\n",
       "    </tr>\n",
       "    <tr>\n",
       "      <th>inexperienced</th>\n",
       "      <td>47</td>\n",
       "      <td>93</td>\n",
       "      <td>1</td>\n",
       "    </tr>\n",
       "    <tr>\n",
       "      <th>junior</th>\n",
       "      <td>217</td>\n",
       "      <td>261</td>\n",
       "      <td>12</td>\n",
       "    </tr>\n",
       "  </tbody>\n",
       "</table>\n",
       "</div>"
      ],
      "text/plain": [
       "customer_sentiment      negative  neutral  positive\n",
       "agent_experience_level                             \n",
       "experienced                  147      188         4\n",
       "inexperienced                 47       93         1\n",
       "junior                       217      261        12"
      ]
     },
     "execution_count": 51,
     "metadata": {},
     "output_type": "execute_result"
    }
   ],
   "source": [
    "pd.crosstab(df[\"agent_experience_level\"], df[\"customer_sentiment\"])"
   ]
  },
  {
   "cell_type": "code",
   "execution_count": 52,
   "metadata": {},
   "outputs": [
    {
     "name": "stdout",
     "output_type": "stream",
     "text": [
      "customer_sentiment   negative    neutral  positive\n",
      "issue_complexity                                  \n",
      "high                47.560976  48.780488  3.658537\n",
      "less                41.737288  56.779661  1.483051\n",
      "medium              42.067308  56.250000  1.682692\n",
      "\n",
      "\n",
      "customer_sentiment       negative    neutral  positive\n",
      "agent_experience_level                                \n",
      "experienced             43.362832  55.457227  1.179941\n",
      "inexperienced           33.333333  65.957447  0.709220\n",
      "junior                  44.285714  53.265306  2.448980\n"
     ]
    }
   ],
   "source": [
    "complexity_sentiment = df.groupby(\"issue_complexity\")[\"customer_sentiment\"].value_counts(normalize=True).unstack() * 100\n",
    "print(complexity_sentiment)\n",
    "print(\"\\n\")\n",
    "experience_sentiment = df.groupby(\"agent_experience_level\")[\"customer_sentiment\"].value_counts(normalize=True).unstack() * 100\n",
    "print(experience_sentiment)"
   ]
  },
  {
   "cell_type": "markdown",
   "metadata": {},
   "source": [
    "The lengths of the conversations are inspected. It was seen that the conversations are longer when the customer sentiment is negative."
   ]
  },
  {
   "cell_type": "code",
   "execution_count": 53,
   "metadata": {},
   "outputs": [
    {
     "data": {
      "text/plain": [
       "customer_sentiment\n",
       "negative    2433.912409\n",
       "neutral     1973.374539\n",
       "positive    1732.588235\n",
       "Name: conversation_length, dtype: float64"
      ]
     },
     "execution_count": 53,
     "metadata": {},
     "output_type": "execute_result"
    }
   ],
   "source": [
    "df[\"conversation_length\"] = df[\"conversation\"].apply(len)\n",
    "df.groupby(\"customer_sentiment\")[\"conversation_length\"].mean()"
   ]
  },
  {
   "cell_type": "markdown",
   "metadata": {},
   "source": [
    "# Data preparation \n",
    "Customer service data is preprocessed and saved as .npy files. Here, only the replies given by the users excluding the last reply are taken and saved as X_train and X_val. Also, their corresponding labels (sentiments) are encoded into integer and they are saved as y_train and y_val."
   ]
  },
  {
   "cell_type": "code",
   "execution_count": 1,
   "metadata": {},
   "outputs": [
    {
     "name": "stdout",
     "output_type": "stream",
     "text": [
      "Train dataset size: 773\n",
      "Validation dataset size: 194\n",
      "Test dataset size: 30\n"
     ]
    }
   ],
   "source": [
    "!python data/customer_service/prepare.py"
   ]
  },
  {
   "cell_type": "markdown",
   "metadata": {},
   "source": [
    "# Weights And Biases Setup"
   ]
  },
  {
   "cell_type": "code",
   "execution_count": 2,
   "metadata": {},
   "outputs": [
    {
     "name": "stderr",
     "output_type": "stream",
     "text": [
      "Failed to detect the name of this notebook, you can set it manually with the WANDB_NOTEBOOK_NAME environment variable to enable code saving.\n",
      "\u001b[34m\u001b[1mwandb\u001b[0m: Using wandb-core as the SDK backend.  Please refer to https://wandb.me/wandb-core for more information.\n",
      "\u001b[34m\u001b[1mwandb\u001b[0m: Currently logged in as: \u001b[33mahmetbekcan\u001b[0m (\u001b[33mDI725-2299436\u001b[0m). Use \u001b[1m`wandb login --relogin`\u001b[0m to force relogin\n",
      "\u001b[34m\u001b[1mwandb\u001b[0m: \u001b[33mWARNING\u001b[0m If you're specifying your api key in code, ensure this code is not shared publicly.\n",
      "\u001b[34m\u001b[1mwandb\u001b[0m: \u001b[33mWARNING\u001b[0m Consider setting the WANDB_API_KEY environment variable, or running `wandb login` from the command line.\n",
      "\u001b[34m\u001b[1mwandb\u001b[0m: Appending key for api.wandb.ai to your netrc file: C:\\Users\\USER\\_netrc\n"
     ]
    },
    {
     "data": {
      "text/plain": [
       "True"
      ]
     },
     "execution_count": 2,
     "metadata": {},
     "output_type": "execute_result"
    }
   ],
   "source": [
    "import wandb\n",
    "import os\n",
    "wandb.login(key=os.getenv(\"WANDB_API\"))"
   ]
  },
  {
   "cell_type": "markdown",
   "metadata": {},
   "source": [
    "# Training the model"
   ]
  },
  {
   "cell_type": "code",
   "execution_count": 3,
   "metadata": {},
   "outputs": [
    {
     "name": "stdout",
     "output_type": "stream",
     "text": [
      "Overriding config with config/train_sentiment_analysis.py:\n",
      "# train a miniature character-level shakespeare model\n",
      "# good for debugging and playing on macbooks and such\n",
      "\n",
      "out_dir = 'out-sentiment-analysis'\n",
      "eval_interval = 100  # decreased to prevent overfitting\n",
      "eval_iters = 200\n",
      "log_interval = 50 \n",
      "\n",
      "always_save_checkpoint = False\n",
      "\n",
      "wandb_log = True\n",
      "wandb_project = 'sentiment-analysis'\n",
      "wandb_run_name = 'mini-gpt-train'\n",
      "\n",
      "dataset = 'customer_service'\n",
      "gradient_accumulation_steps = 1\n",
      "batch_size = 8\n",
      "block_size = 256\n",
      "\n",
      "sentiment_classifier = True # it will change the model implementation\n",
      "\n",
      "n_layer = 6\n",
      "n_head = 6\n",
      "n_embd = 384\n",
      "dropout = 0.2\n",
      "\n",
      "learning_rate = 1e-4 # decreased since dataset is small\n",
      "max_iters = 2000\n",
      "lr_decay_iters = 2000 \n",
      "min_lr = 1e-5  # learning_rate / 10 usually\n",
      "beta2 = 0.99 \n",
      "\n",
      "warmup_iters = 100\n",
      "\n",
      "# on macbook also add\n",
      "# device = 'cpu'  # run on cpu only\n",
      "# compile = False # do not torch compile the model\n",
      "\n",
      "Overriding: compile = False\n",
      "tokens per iteration will be: 2,048\n",
      "Initializing a new model from scratch\n",
      "number of parameters: 10.66M\n",
      "num decayed parameter tensors: 27, with 10,750,080 parameters\n",
      "num non-decayed parameter tensors: 13, with 4,992 parameters\n",
      "using fused AdamW: True\n",
      "step 0: train loss 1.2069, val loss 1.2094\n",
      "iter 0: loss 1.3022, time 2042.64ms, mfu -100.00%\n",
      "iter 50: loss 1.0959, time 16.74ms, mfu 2.78%\n",
      "step 100: train loss 0.8092, val loss 0.7991\n",
      "saving checkpoint to out-sentiment-analysis\n",
      "iter 100: loss 0.7231, time 1321.39ms, mfu 2.51%\n",
      "iter 150: loss 0.8606, time 8.87ms, mfu 2.78%\n",
      "step 200: train loss 0.7493, val loss 0.7564\n",
      "saving checkpoint to out-sentiment-analysis\n",
      "iter 200: loss 0.6892, time 1456.26ms, mfu 2.51%\n",
      "iter 250: loss 0.4334, time 14.83ms, mfu 2.57%\n",
      "step 300: train loss 0.8721, val loss 0.8985\n",
      "iter 300: loss 1.0631, time 1270.91ms, mfu 2.32%\n",
      "iter 350: loss 0.5318, time 15.76ms, mfu 2.38%\n",
      "step 400: train loss 0.6047, val loss 0.6682\n",
      "saving checkpoint to out-sentiment-analysis\n",
      "iter 400: loss 0.4510, time 1410.68ms, mfu 2.15%\n",
      "iter 450: loss 0.7899, time 4.68ms, mfu 2.93%\n",
      "step 500: train loss 0.5483, val loss 0.6823\n",
      "iter 500: loss 0.5273, time 1254.64ms, mfu 2.64%\n",
      "iter 550: loss 0.7859, time 20.84ms, mfu 2.60%\n",
      "step 600: train loss 0.6029, val loss 1.1221\n",
      "iter 600: loss 0.2221, time 1309.53ms, mfu 2.34%\n",
      "iter 650: loss 0.3413, time 14.81ms, mfu 2.42%\n",
      "step 700: train loss 0.4149, val loss 0.7319\n",
      "iter 700: loss 0.2101, time 1329.29ms, mfu 2.19%\n",
      "iter 750: loss 0.5098, time 21.50ms, mfu 2.18%\n",
      "step 800: train loss 0.5057, val loss 0.8630\n",
      "iter 800: loss 0.1415, time 2376.78ms, mfu 1.97%\n",
      "iter 850: loss 0.3889, time 24.17ms, mfu 1.96%\n",
      "step 900: train loss 0.3528, val loss 0.9820\n",
      "iter 900: loss 0.3300, time 2953.73ms, mfu 1.77%\n",
      "iter 950: loss 0.1045, time 34.39ms, mfu 1.73%\n",
      "step 1000: train loss 0.3273, val loss 1.1115\n",
      "iter 1000: loss 0.1130, time 2803.07ms, mfu 1.56%\n",
      "iter 1050: loss 0.1292, time 30.18ms, mfu 1.56%\n",
      "step 1100: train loss 0.3129, val loss 0.8069\n",
      "iter 1100: loss 0.4393, time 2850.42ms, mfu 1.40%\n",
      "iter 1150: loss 1.1543, time 34.96ms, mfu 1.39%\n",
      "step 1200: train loss 0.2985, val loss 1.2720\n",
      "iter 1200: loss 0.3368, time 2971.10ms, mfu 1.26%\n",
      "iter 1250: loss 0.5719, time 31.80ms, mfu 1.28%\n",
      "step 1300: train loss 0.2618, val loss 1.2724\n",
      "iter 1300: loss 0.0432, time 3041.83ms, mfu 1.15%\n",
      "iter 1350: loss 0.4765, time 30.64ms, mfu 1.19%\n",
      "step 1400: train loss 0.3039, val loss 1.3123\n",
      "iter 1400: loss 0.4382, time 3066.44ms, mfu 1.07%\n",
      "iter 1450: loss 0.4527, time 32.43ms, mfu 1.11%\n",
      "step 1500: train loss 0.2420, val loss 1.4240\n",
      "iter 1500: loss 0.3390, time 3058.84ms, mfu 1.00%\n",
      "iter 1550: loss 0.2320, time 34.70ms, mfu 1.03%\n",
      "step 1600: train loss 0.2473, val loss 1.7141\n",
      "iter 1600: loss 0.4996, time 3023.54ms, mfu 0.93%\n",
      "iter 1650: loss 0.1902, time 32.75ms, mfu 0.98%\n",
      "step 1700: train loss 0.2474, val loss 1.6719\n",
      "iter 1700: loss 0.5411, time 3053.84ms, mfu 0.88%\n",
      "iter 1750: loss 0.4921, time 36.62ms, mfu 0.92%\n",
      "step 1800: train loss 0.1956, val loss 1.5354\n",
      "iter 1800: loss 0.0254, time 3017.20ms, mfu 0.83%\n",
      "iter 1850: loss 1.2412, time 33.22ms, mfu 0.89%\n",
      "step 1900: train loss 0.2030, val loss 1.6114\n",
      "iter 1900: loss 0.2820, time 3018.15ms, mfu 0.80%\n",
      "iter 1950: loss 0.0307, time 29.61ms, mfu 0.88%\n",
      "step 2000: train loss 0.2093, val loss 1.6683\n",
      "iter 2000: loss 1.6026, time 3040.39ms, mfu 0.79%\n",
      "\u001b[1;34mwandb\u001b[0m: 🚀 View run \u001b[33mmini-gpt-train\u001b[0m at: \u001b[34mhttps://wandb.ai/DI725-2299436/sentiment-analysis/runs/2a1snlnp\u001b[0m\n",
      "\u001b[1;34mwandb\u001b[0m: Find logs at: \u001b[1;35mwandb\\run-20250406_205828-2a1snlnp\\logs\u001b[0m\n"
     ]
    },
    {
     "name": "stderr",
     "output_type": "stream",
     "text": [
      "wandb: Using wandb-core as the SDK backend.  Please refer to https://wandb.me/wandb-core for more information.\n",
      "wandb: Currently logged in as: ahmetbekcan (DI725-2299436). Use `wandb login --relogin` to force relogin\n",
      "wandb: Tracking run with wandb version 0.18.7\n",
      "wandb: Run data is saved locally in c:\\Users\\USER\\Desktop\\DI725-Assignment-1\\wandb\\run-20250406_205828-2a1snlnp\n",
      "wandb: Run `wandb offline` to turn off syncing.\n",
      "wandb: Syncing run mini-gpt-train\n",
      "wandb:  View project at https://wandb.ai/DI725-2299436/sentiment-analysis\n",
      "wandb:  View run at https://wandb.ai/DI725-2299436/sentiment-analysis/runs/2a1snlnp\n",
      "c:\\Users\\USER\\Desktop\\DI725-Assignment-1\\model.py:64: UserWarning: 1Torch was not compiled with flash attention. (Triggered internally at C:\\cb\\pytorch_1000000000000\\work\\aten\\src\\ATen\\native\\transformers\\cuda\\sdp_utils.cpp:263.)\n",
      "  y = torch.nn.functional.scaled_dot_product_attention(q, k, v, attn_mask=None, dropout_p=self.dropout if self.training else 0, is_causal=True)\n"
     ]
    },
    {
     "name": "stdout",
     "output_type": "stream",
     "text": [
      "Overriding config with config/train_sentiment_analysis.py:\n",
      "# train a miniature character-level shakespeare model\n",
      "# good for debugging and playing on macbooks and such\n",
      "\n",
      "out_dir = 'out-sentiment-analysis'\n",
      "eval_interval = 100  # decreased to prevent overfitting\n",
      "eval_iters = 200\n",
      "log_interval = 50 \n",
      "\n",
      "always_save_checkpoint = False\n",
      "\n",
      "wandb_log = True\n",
      "wandb_project = 'sentiment-analysis'\n",
      "wandb_run_name = 'mini-gpt-train'\n",
      "\n",
      "dataset = 'customer_service'\n",
      "gradient_accumulation_steps = 1\n",
      "batch_size = 8\n",
      "block_size = 256\n",
      "\n",
      "sentiment_classifier = True # it will change the model implementation\n",
      "\n",
      "n_layer = 6\n",
      "n_head = 6\n",
      "n_embd = 384\n",
      "dropout = 0.2\n",
      "\n",
      "learning_rate = 1e-4 # decreased since dataset is small\n",
      "max_iters = 2000\n",
      "lr_decay_iters = 2000 \n",
      "min_lr = 1e-5  # learning_rate / 10 usually\n",
      "beta2 = 0.99 \n",
      "\n",
      "warmup_iters = 100\n",
      "\n",
      "# on macbook also add\n",
      "# device = 'cpu'  # run on cpu only\n",
      "# compile = False # do not torch compile the model\n",
      "\n",
      "Overriding: compile = False\n",
      "tokens per iteration will be: 2,048\n",
      "Initializing a new model from scratch\n",
      "number of parameters: 10.66M\n",
      "num decayed parameter tensors: 27, with 10,750,080 parameters\n",
      "num non-decayed parameter tensors: 13, with 4,992 parameters\n",
      "using fused AdamW: True\n",
      "step 0: train loss 1.2069, val loss 1.2094\n",
      "iter 0: loss 1.3022, time 3469.77ms, mfu -100.00%\n",
      "iter 50: loss 1.0959, time 34.86ms, mfu 1.34%\n",
      "step 100: train loss 0.8092, val loss 0.7991\n",
      "saving checkpoint to out-sentiment-analysis\n",
      "iter 100: loss 0.7231, time 2997.56ms, mfu 1.21%\n",
      "iter 150: loss 0.8604, time 34.61ms, mfu 1.22%\n",
      "step 200: train loss 0.7486, val loss 0.7571\n",
      "saving checkpoint to out-sentiment-analysis\n",
      "iter 200: loss 0.6880, time 2948.91ms, mfu 1.10%\n",
      "iter 250: loss 0.7461, time 37.71ms, mfu 1.11%\n",
      "step 300: train loss 0.7347, val loss 0.7723\n",
      "iter 300: loss 0.9778, time 2761.61ms, mfu 1.00%\n",
      "iter 350: loss 0.4951, time 35.90ms, mfu 1.03%\n",
      "step 400: train loss 0.5951, val loss 0.6972\n",
      "saving checkpoint to out-sentiment-analysis\n",
      "iter 400: loss 0.4738, time 2918.04ms, mfu 0.93%\n",
      "iter 450: loss 0.7907, time 29.01ms, mfu 1.00%\n",
      "step 500: train loss 0.5305, val loss 0.7168\n",
      "iter 500: loss 0.4597, time 3014.65ms, mfu 0.90%\n",
      "iter 550: loss 0.6617, time 33.86ms, mfu 0.95%\n",
      "step 600: train loss 0.5582, val loss 0.9677\n",
      "iter 600: loss 0.2244, time 2985.02ms, mfu 0.85%\n",
      "iter 650: loss 0.2808, time 32.38ms, mfu 0.91%\n",
      "step 700: train loss 0.4105, val loss 0.8005\n",
      "iter 700: loss 0.2052, time 3009.80ms, mfu 0.82%\n",
      "iter 750: loss 0.6307, time 33.13ms, mfu 0.88%\n",
      "step 800: train loss 0.4878, val loss 0.8648\n",
      "iter 800: loss 0.1789, time 2983.55ms, mfu 0.80%\n",
      "iter 850: loss 0.5433, time 33.58ms, mfu 0.85%\n",
      "step 900: train loss 0.3475, val loss 0.9614\n",
      "iter 900: loss 0.3179, time 2992.83ms, mfu 0.77%\n",
      "iter 950: loss 0.1748, time 34.64ms, mfu 0.83%\n",
      "step 1000: train loss 0.3152, val loss 1.1940\n",
      "iter 1000: loss 0.0979, time 3015.44ms, mfu 0.75%\n",
      "iter 1050: loss 0.3653, time 33.58ms, mfu 0.81%\n",
      "step 1100: train loss 0.2936, val loss 0.9019\n",
      "iter 1100: loss 0.3476, time 2978.76ms, mfu 0.73%\n",
      "iter 1150: loss 1.3797, time 34.70ms, mfu 0.79%\n",
      "step 1200: train loss 0.2681, val loss 1.2180\n",
      "iter 1200: loss 0.0781, time 2724.91ms, mfu 0.72%\n",
      "iter 1250: loss 0.8013, time 18.94ms, mfu 0.89%\n",
      "step 1300: train loss 0.2398, val loss 1.1796\n",
      "iter 1300: loss 0.0706, time 2526.82ms, mfu 0.80%\n",
      "iter 1350: loss 0.3783, time 34.34ms, mfu 0.86%\n",
      "step 1400: train loss 0.3120, val loss 1.4536\n",
      "iter 1400: loss 0.4816, time 2652.06ms, mfu 0.77%\n",
      "iter 1450: loss 0.4907, time 17.58ms, mfu 0.96%\n",
      "step 1500: train loss 0.2448, val loss 1.3448\n",
      "iter 1500: loss 0.3169, time 2624.82ms, mfu 0.87%\n",
      "iter 1550: loss 0.0415, time 21.81ms, mfu 0.99%\n",
      "step 1600: train loss 0.2318, val loss 1.6199\n",
      "iter 1600: loss 0.5240, time 2729.22ms, mfu 0.90%\n",
      "iter 1650: loss 0.0203, time 19.31ms, mfu 1.05%\n",
      "step 1700: train loss 0.2760, val loss 1.6169\n",
      "iter 1700: loss 0.3022, time 3160.83ms, mfu 0.95%\n",
      "iter 1750: loss 0.4864, time 17.46ms, mfu 1.12%\n",
      "step 1800: train loss 0.1687, val loss 1.5737\n",
      "iter 1800: loss 0.0173, time 1374.14ms, mfu 1.01%\n",
      "iter 1850: loss 1.5383, time 15.91ms, mfu 1.20%\n",
      "step 1900: train loss 0.1923, val loss 1.6535\n",
      "iter 1900: loss 0.1402, time 1331.04ms, mfu 1.08%\n",
      "iter 1950: loss 0.2373, time 14.52ms, mfu 1.30%\n",
      "step 2000: train loss 0.2160, val loss 1.7624\n",
      "iter 2000: loss 2.2729, time 1259.56ms, mfu 1.17%\n"
     ]
    },
    {
     "name": "stderr",
     "output_type": "stream",
     "text": [
      "wandb: Currently logged in as: ahmetbekcan (DI725-2299436). Use `wandb login --relogin` to force relogin\n",
      "wandb: Tracking run with wandb version 0.18.7\n",
      "wandb: Run data is saved locally in c:\\Users\\USER\\Desktop\\DI725-Assignment-1\\wandb\\run-20250406_205852-lv0h24jc\n",
      "wandb: Run `wandb offline` to turn off syncing.\n",
      "wandb: Syncing run mini-gpt-train\n",
      "wandb:  View project at https://wandb.ai/DI725-2299436/sentiment-analysis\n",
      "wandb:  View run at https://wandb.ai/DI725-2299436/sentiment-analysis/runs/lv0h24jc\n",
      "c:\\Users\\USER\\Desktop\\DI725-Assignment-1\\model.py:64: UserWarning: 1Torch was not compiled with flash attention. (Triggered internally at C:\\cb\\pytorch_1000000000000\\work\\aten\\src\\ATen\\native\\transformers\\cuda\\sdp_utils.cpp:263.)\n",
      "  y = torch.nn.functional.scaled_dot_product_attention(q, k, v, attn_mask=None, dropout_p=self.dropout if self.training else 0, is_causal=True)\n"
     ]
    }
   ],
   "source": [
    "!python train.py config/train_sentiment_analysis.py --compile=False"
   ]
  },
  {
   "cell_type": "markdown",
   "metadata": {},
   "source": [
    "# Evaluating the model"
   ]
  },
  {
   "cell_type": "markdown",
   "metadata": {},
   "source": [
    "## Helper Functions"
   ]
  },
  {
   "cell_type": "markdown",
   "metadata": {},
   "source": [
    "Two functions are written to evaluate the model and load the checkpoints as follows"
   ]
  },
  {
   "cell_type": "code",
   "execution_count": null,
   "metadata": {},
   "outputs": [],
   "source": [
    "import torch\n",
    "from sklearn.metrics import confusion_matrix, f1_score\n",
    "import numpy as np\n",
    "import seaborn as sns\n",
    "import matplotlib.pyplot as plt\n",
    "import pickle\n",
    "from model import GPT\n",
    "from torch.nn.utils.rnn import pad_sequence\n",
    "from model import GPT, GPTConfig\n",
    "\n",
    "def evaluate_model(model: GPT, X_test_path, y_test_path, sent_to_int, device='cpu'):\n",
    "    # Load the test data (X_test and y_test) using pickle\n",
    "    with open(X_test_path, 'rb') as f:\n",
    "        X_test = pickle.load(f)\n",
    "    \n",
    "    with open(y_test_path, 'rb') as f:\n",
    "        y_test = pickle.load(f)\n",
    "    \n",
    "    # Ensure the model is in evaluation mode\n",
    "    model.eval()\n",
    "\n",
    "    # Pad sequences to ensure uniform length\n",
    "    padded_X_test = pad_sequence([torch.tensor(seq, dtype=torch.long) for seq in X_test], batch_first=True, padding_value=0)\n",
    "    block_size = model.config.block_size\n",
    "    # If the sequences are longer than block_size, truncate them\n",
    "    padded_X_test = padded_X_test[:, :block_size]\n",
    "    \n",
    "    # Move data to the correct device (CPU or GPU)\n",
    "    X_test_tensor = padded_X_test.to(device)  # Shape: (num_samples, seq_len)\n",
    "    y_test_tensor = torch.tensor(y_test, dtype=torch.long).to(device)  # Shape: (num_samples,)\n",
    "    \n",
    "    # Make predictions\n",
    "    with torch.no_grad():\n",
    "        logits, _ = model(X_test_tensor)  # Assuming output shape is (num_samples, seq_len, num_classes)\n",
    "        logits = logits[:, -1, :]  # Only take the logits for the last token (sentiment prediction)\n",
    "        \n",
    "        # Apply softmax to get probabilities and then get the predicted class\n",
    "        probs = torch.softmax(logits, dim=-1)\n",
    "        predictions = torch.argmax(probs, dim=-1)\n",
    "    \n",
    "    # Convert predictions to numpy arrays for further analysis\n",
    "    predictions_np = predictions.cpu().numpy()\n",
    "    \n",
    "    # Calculate success rate\n",
    "    correct_predictions = (predictions_np == y_test_tensor.cpu().numpy()).sum()\n",
    "    total_predictions = len(y_test)\n",
    "    success_rate = correct_predictions / total_predictions * 100\n",
    "    \n",
    "    print(f\"Success Rate: {success_rate:.2f}%\")\n",
    "    \n",
    "    f1 = f1_score(y_test_tensor.cpu().numpy(), predictions_np, average='weighted')\n",
    "    print(f\"F1-Score: {f1:.2f}\")\n",
    "\n",
    "    int_to_sentiment = {v: k for k, v in sent_to_int.items()}\n",
    "\n",
    "    y_test_labels = [int_to_sentiment[i] for i in y_test]\n",
    "    pred_labels = [int_to_sentiment[i] for i in predictions_np]\n",
    "\n",
    "    cm = confusion_matrix(y_test_labels, pred_labels, labels=list(sent_to_int.keys()))\n",
    "\n",
    "    sns.heatmap(cm, annot=True, fmt='d', xticklabels=sent_to_int.keys(), yticklabels=sent_to_int.keys())\n",
    "    plt.xlabel('Predicted')\n",
    "    plt.ylabel('Actual')\n",
    "    plt.title('Confusion Matrix')\n",
    "    plt.show()\n",
    "    \n",
    "    return success_rate, cm, f1\n",
    "\n",
    "def load_model_from_checkpoint(ckpt_path, device='cpu'):\n",
    "    # Load the checkpoint\n",
    "    checkpoint = torch.load(ckpt_path, map_location=device)\n",
    "    \n",
    "    # Get the saved model configuration\n",
    "    model_args = checkpoint['model_args']\n",
    "    \n",
    "    # Initialize the model with the saved configuration\n",
    "    config = GPTConfig(**model_args)  # Use the saved arguments to create the model configuration\n",
    "    model = GPT(config).to(device)  # Reinitialize the model\n",
    "    \n",
    "    # Load the model's state dictionary from the checkpoint\n",
    "    model.load_state_dict(checkpoint['model'])\n",
    "    \n",
    "    # Set the model to evaluation mode (optional, for inference)\n",
    "    model.eval()\n",
    "    \n",
    "    print(f\"Model loaded from checkpoint: {ckpt_path}\")\n",
    "    \n",
    "    return model"
   ]
  },
  {
   "cell_type": "markdown",
   "metadata": {},
   "source": [
    "## Evaluating Trained Model"
   ]
  },
  {
   "cell_type": "code",
   "execution_count": 5,
   "metadata": {},
   "outputs": [
    {
     "name": "stdout",
     "output_type": "stream",
     "text": [
      "number of parameters: 10.66M\n",
      "Model loaded from checkpoint: out-sentiment-analysis/ckpt.pt\n",
      "Success Rate: 33.33%\n"
     ]
    },
    {
     "name": "stderr",
     "output_type": "stream",
     "text": [
      "c:\\Users\\USER\\Desktop\\DI725-Assignment-1\\model.py:64: UserWarning: 1Torch was not compiled with flash attention. (Triggered internally at C:\\cb\\pytorch_1000000000000\\work\\aten\\src\\ATen\\native\\transformers\\cuda\\sdp_utils.cpp:263.)\n",
      "  y = torch.nn.functional.scaled_dot_product_attention(q, k, v, attn_mask=None, dropout_p=self.dropout if self.training else 0, is_causal=True)\n"
     ]
    },
    {
     "data": {
      "image/png": "[encoded data removed]",
      "text/plain": [
       "<Figure size 640x480 with 2 Axes>"
      ]
     },
     "metadata": {},
     "output_type": "display_data"
    },
    {
     "data": {
      "text/plain": [
       "(33.33333333333333,\n",
       " array([[0, 3, 7],\n",
       "        [0, 3, 7],\n",
       "        [0, 3, 7]], dtype=int64))"
      ]
     },
     "execution_count": 5,
     "metadata": {},
     "output_type": "execute_result"
    }
   ],
   "source": [
    "device = \"cuda\" if torch.cuda.is_available else \"cpu\"\n",
    "model = load_model_from_checkpoint('out-sentiment-analysis/ckpt.pt', device=device)\n",
    "with open(\"data/customer_service/meta.pkl\", 'rb') as f:\n",
    "    meta = pickle.load(f)\n",
    "sent_to_int = meta[\"sentiment_to_int\"]\n",
    "evaluate_model(model, \"data/customer_service/X_test.bin\",\"data/customer_service/y_test.bin\", sent_to_int, device=device)"
   ]
  },
  {
   "cell_type": "markdown",
   "metadata": {},
   "source": [
    "# Fine-tuning the model"
   ]
  },
  {
   "cell_type": "markdown",
   "metadata": {},
   "source": [
    "This time the data is prepared with a different tokenizer."
   ]
  },
  {
   "cell_type": "code",
   "execution_count": 4,
   "metadata": {},
   "outputs": [
    {
     "name": "stdout",
     "output_type": "stream",
     "text": [
      "Train dataset size: 773\n",
      "Validation dataset size: 194\n",
      "Test dataset size: 30\n"
     ]
    }
   ],
   "source": [
    "!python data/customer_service_finetune/prepare.py"
   ]
  },
  {
   "cell_type": "code",
   "execution_count": 7,
   "metadata": {},
   "outputs": [
    {
     "name": "stdout",
     "output_type": "stream",
     "text": [
      "Overriding config with config/finetune_sentiment_analysis.py:\n",
      "out_dir = 'out-sentiment-analysis-finetune'\n",
      "\n",
      "always_save_checkpoint = False\n",
      "\n",
      "wandb_log = True\n",
      "wandb_project = 'sentiment-analysis'\n",
      "wandb_run_name = 'mini-gpt-finetune'\n",
      "\n",
      "dataset = 'customer_service_finetune'\n",
      "init_from = 'gpt2'\n",
      "\n",
      "# only save checkpoints if the validation loss improves\n",
      "always_save_checkpoint = False\n",
      "\n",
      "# the number of examples per iter:\n",
      "batch_size = 1\n",
      "gradient_accumulation_steps = 32\n",
      "max_iters = 200\n",
      "\n",
      "# finetune at constant LR\n",
      "learning_rate = 3e-5\n",
      "decay_lr = False\n",
      "sentiment_classifier = True\n",
      "\n",
      "eval_interval = 100  # decreased to prevent overfitting\n",
      "eval_iters = 200\n",
      "log_interval = 50 \n",
      "Overriding: compile = False\n",
      "tokens per iteration will be: 32,768\n",
      "Initializing from OpenAI GPT-2 weights: gpt2\n",
      "loading weights from pretrained gpt: gpt2\n",
      "forcing vocab_size=50257, block_size=1024, bias=True\n",
      "overriding dropout rate to 0.0\n",
      "model is loaded with sentiment classifier is True\n",
      "number of parameters: 123.66M\n",
      "num decayed parameter tensors: 51, with 124,320,768 parameters\n",
      "num non-decayed parameter tensors: 98, with 121,344 parameters\n",
      "using fused AdamW: True\n",
      "step 0: train loss 11.1138, val loss 11.5922\n",
      "iter 0: loss 20.1250, time 5736.45ms, mfu -100.00%\n",
      "iter 50: loss 0.1182, time 1164.45ms, mfu 7.71%\n",
      "step 100: train loss 0.4322, val loss 0.6658\n",
      "saving checkpoint to out-sentiment-analysis-finetune\n",
      "iter 100: loss 1.1719, time 7065.72ms, mfu 7.07%\n",
      "iter 150: loss 0.0232, time 1169.68ms, mfu 7.13%\n",
      "step 200: train loss 0.1420, val loss 0.4882\n",
      "saving checkpoint to out-sentiment-analysis-finetune\n",
      "iter 200: loss 0.0110, time 9392.52ms, mfu 6.51%\n"
     ]
    },
    {
     "name": "stderr",
     "output_type": "stream",
     "text": [
      "wandb: Currently logged in as: ahmetbekcan (DI725-2299436). Use `wandb login --relogin` to force relogin\n",
      "wandb: Tracking run with wandb version 0.18.7\n",
      "wandb: Run data is saved locally in c:\\Users\\USER\\Desktop\\DI725-Assignment-1\\wandb\\run-20250407_002320-1qqssqmn\n",
      "wandb: Run `wandb offline` to turn off syncing.\n",
      "wandb: Syncing run mini-gpt-finetune\n",
      "wandb:  View project at https://wandb.ai/DI725-2299436/sentiment-analysis\n",
      "wandb:  View run at https://wandb.ai/DI725-2299436/sentiment-analysis/runs/1qqssqmn\n",
      "c:\\Users\\USER\\Desktop\\DI725-Assignment-1\\model.py:64: UserWarning: 1Torch was not compiled with flash attention. (Triggered internally at C:\\cb\\pytorch_1000000000000\\work\\aten\\src\\ATen\\native\\transformers\\cuda\\sdp_utils.cpp:263.)\n",
      "  y = torch.nn.functional.scaled_dot_product_attention(q, k, v, attn_mask=None, dropout_p=self.dropout if self.training else 0, is_causal=True)\n"
     ]
    }
   ],
   "source": [
    "!python train.py config/finetune_sentiment_analysis.py --compile=False"
   ]
  },
  {
   "cell_type": "markdown",
   "metadata": {},
   "source": [
    "# Evaluating the Finetuned Model"
   ]
  },
  {
   "cell_type": "code",
   "execution_count": 8,
   "metadata": {},
   "outputs": [
    {
     "name": "stdout",
     "output_type": "stream",
     "text": [
      "number of parameters: 123.66M\n",
      "Model loaded from checkpoint: out-sentiment-analysis-finetune/ckpt.pt\n"
     ]
    }
   ],
   "source": [
    "device = \"cuda\" if torch.cuda.is_available else \"cpu\"\n",
    "model = load_model_from_checkpoint('out-sentiment-analysis-finetune/ckpt.pt', device=device)"
   ]
  },
  {
   "cell_type": "code",
   "execution_count": 9,
   "metadata": {},
   "outputs": [
    {
     "name": "stderr",
     "output_type": "stream",
     "text": [
      "c:\\Users\\USER\\Desktop\\DI725-Assignment-1\\model.py:64: UserWarning: 1Torch was not compiled with flash attention. (Triggered internally at C:\\cb\\pytorch_1000000000000\\work\\aten\\src\\ATen\\native\\transformers\\cuda\\sdp_utils.cpp:263.)\n",
      "  y = torch.nn.functional.scaled_dot_product_attention(q, k, v, attn_mask=None, dropout_p=self.dropout if self.training else 0, is_causal=True)\n"
     ]
    },
    {
     "name": "stdout",
     "output_type": "stream",
     "text": [
      "Success Rate: 36.67%\n"
     ]
    },
    {
     "data": {
      "image/png": "[encoded data removed]",
      "text/plain": [
       "<Figure size 640x480 with 2 Axes>"
      ]
     },
     "metadata": {},
     "output_type": "display_data"
    },
    {
     "data": {
      "text/plain": [
       "(36.666666666666664,\n",
       " array([[ 0, 10,  0],\n",
       "        [ 0, 10,  0],\n",
       "        [ 0,  9,  1]], dtype=int64))"
      ]
     },
     "execution_count": 9,
     "metadata": {},
     "output_type": "execute_result"
    }
   ],
   "source": [
    "with open(\"data/customer_service/meta.pkl\", 'rb') as f:\n",
    "    meta = pickle.load(f)\n",
    "sent_to_int = meta[\"sentiment_to_int\"]\n",
    "evaluate_model(model, \"data/customer_service/X_test.bin\",\"data/customer_service/y_test.bin\", sent_to_int, device=device)"
   ]
  }
 ],
 "metadata": {
  "kernelspec": {
   "display_name": "base",
   "language": "python",
   "name": "python3"
  },
  "language_info": {
   "codemirror_mode": {
    "name": "ipython",
    "version": 3
   },
   "file_extension": ".py",
   "mimetype": "text/x-python",
   "name": "python",
   "nbconvert_exporter": "python",
   "pygments_lexer": "ipython3",
   "version": "3.11.5"
  }
 },
 "nbformat": 4,
 "nbformat_minor": 2
}
